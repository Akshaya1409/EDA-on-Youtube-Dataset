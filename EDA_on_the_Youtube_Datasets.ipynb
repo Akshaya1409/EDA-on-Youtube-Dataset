{
  "nbformat": 4,
  "nbformat_minor": 0,
  "metadata": {
    "colab": {
      "name": "EDA on the Youtube Datasets.ipynb",
      "provenance": [],
      "collapsed_sections": [],
      "authorship_tag": "ABX9TyPSLRu1KTvLB68iIljKQ9BI",
      "include_colab_link": true
    },
    "kernelspec": {
      "name": "python3",
      "display_name": "Python 3"
    },
    "language_info": {
      "name": "python"
    }
  },
  "cells": [
    {
      "cell_type": "markdown",
      "metadata": {
        "id": "view-in-github",
        "colab_type": "text"
      },
      "source": [
        "<a href=\"https://colab.research.google.com/github/Akshaya1409/EDA-on-Youtube-Dataset/blob/main/EDA_on_the_Youtube_Datasets.ipynb\" target=\"_parent\"><img src=\"https://colab.research.google.com/assets/colab-badge.svg\" alt=\"Open In Colab\"/></a>"
      ]
    },
    {
      "cell_type": "markdown",
      "metadata": {
        "id": "xmiLN5ehOA0G"
      },
      "source": [
        "###Exploratory Data Analysis on Youtube dataset"
      ]
    },
    {
      "cell_type": "markdown",
      "metadata": {
        "id": "9N8lI2OxODrA"
      },
      "source": [
        "Importing the necessary libraries\n"
      ]
    },
    {
      "cell_type": "code",
      "metadata": {
        "id": "2om-LKbXN_-_"
      },
      "source": [
        "import numpy as np\n",
        "import pandas as pd\n",
        "import matplotlib.pyplot as plt\n",
        "import seaborn as sns"
      ],
      "execution_count": 51,
      "outputs": []
    },
    {
      "cell_type": "markdown",
      "metadata": {
        "id": "Dff7kmeWTFAO"
      },
      "source": [
        "Reading the csv file"
      ]
    },
    {
      "cell_type": "code",
      "metadata": {
        "colab": {
          "base_uri": "https://localhost:8080/",
          "height": 434
        },
        "id": "mIOtgfsYOGLA",
        "outputId": "31c99288-75a3-43b7-8b8f-dcbbcda053a8"
      },
      "source": [
        "df_youtube=pd.read_csv(\"train.csv\") # Import the dataset\n",
        "df_youtube.head(3)"
      ],
      "execution_count": 52,
      "outputs": [
        {
          "output_type": "execute_result",
          "data": {
            "text/html": [
              "<div>\n",
              "<style scoped>\n",
              "    .dataframe tbody tr th:only-of-type {\n",
              "        vertical-align: middle;\n",
              "    }\n",
              "\n",
              "    .dataframe tbody tr th {\n",
              "        vertical-align: top;\n",
              "    }\n",
              "\n",
              "    .dataframe thead th {\n",
              "        text-align: right;\n",
              "    }\n",
              "</style>\n",
              "<table border=\"1\" class=\"dataframe\">\n",
              "  <thead>\n",
              "    <tr style=\"text-align: right;\">\n",
              "      <th></th>\n",
              "      <th>Video_id</th>\n",
              "      <th>category_id</th>\n",
              "      <th>channel_title</th>\n",
              "      <th>subscriber</th>\n",
              "      <th>title</th>\n",
              "      <th>tags</th>\n",
              "      <th>description</th>\n",
              "      <th>Trend_day_count</th>\n",
              "      <th>Tag_count</th>\n",
              "      <th>Trend_tag_count</th>\n",
              "      <th>comment_count</th>\n",
              "      <th>comment_disabled</th>\n",
              "      <th>like dislike disabled</th>\n",
              "      <th>likes</th>\n",
              "      <th>dislike</th>\n",
              "      <th>tag appered in title</th>\n",
              "      <th>views</th>\n",
              "      <th>Unnamed: 17</th>\n",
              "      <th>Unnamed: 18</th>\n",
              "    </tr>\n",
              "  </thead>\n",
              "  <tbody>\n",
              "    <tr>\n",
              "      <th>0</th>\n",
              "      <td>HDR9SQc79</td>\n",
              "      <td>22.0</td>\n",
              "      <td>CaseyNeistat</td>\n",
              "      <td>9086142.0</td>\n",
              "      <td>WE WANT TO TALK ABOUT OUR MARRIAGE</td>\n",
              "      <td>SHANtell martin</td>\n",
              "      <td>SHANTELL'S CHANNEL - https://www.youtube.com/s...</td>\n",
              "      <td>6.0</td>\n",
              "      <td>21</td>\n",
              "      <td>6</td>\n",
              "      <td></td>\n",
              "      <td>FALSE</td>\n",
              "      <td>FALSE</td>\n",
              "      <td>13342</td>\n",
              "      <td>6089</td>\n",
              "      <td>False</td>\n",
              "      <td>1978978</td>\n",
              "      <td>NaN</td>\n",
              "      <td>NaN</td>\n",
              "    </tr>\n",
              "    <tr>\n",
              "      <th>1</th>\n",
              "      <td>KNH52UF?48</td>\n",
              "      <td>24.0</td>\n",
              "      <td>LastWeekTonight</td>\n",
              "      <td>5937292.0</td>\n",
              "      <td>The Trump Presidency: Last Week Tonight with J...</td>\n",
              "      <td>last week tonight trump presidency|last week t...</td>\n",
              "      <td>One year after the presidential election, John...</td>\n",
              "      <td>1.0</td>\n",
              "      <td>23</td>\n",
              "      <td>1</td>\n",
              "      <td>116266</td>\n",
              "      <td>TRUE</td>\n",
              "      <td>FALSE</td>\n",
              "      <td>5761</td>\n",
              "      <td>3044</td>\n",
              "      <td>False</td>\n",
              "      <td>1487870</td>\n",
              "      <td>NaN</td>\n",
              "      <td>NaN</td>\n",
              "    </tr>\n",
              "    <tr>\n",
              "      <th>2</th>\n",
              "      <td>QTW28IRG36</td>\n",
              "      <td>23.0</td>\n",
              "      <td>Rudy Mancuso</td>\n",
              "      <td>4191209.0</td>\n",
              "      <td>Racist Superman | Rudy Mancuso, King Bach &amp; Le...</td>\n",
              "      <td>racist superman|rudy|mancuso|king|bach|racist|...</td>\n",
              "      <td>WATCH MY PREVIOUS VIDEO ▶ \\n\\nSUBSCRIBE ► http...</td>\n",
              "      <td>10.0</td>\n",
              "      <td>22</td>\n",
              "      <td>3</td>\n",
              "      <td>257850</td>\n",
              "      <td>TRUE</td>\n",
              "      <td>TRUE</td>\n",
              "      <td>0</td>\n",
              "      <td>0</td>\n",
              "      <td>True</td>\n",
              "      <td>1502102</td>\n",
              "      <td>NaN</td>\n",
              "      <td>NaN</td>\n",
              "    </tr>\n",
              "  </tbody>\n",
              "</table>\n",
              "</div>"
            ],
            "text/plain": [
              "     Video_id  category_id    channel_title  ...    views Unnamed: 17 Unnamed: 18\n",
              "0   HDR9SQc79         22.0     CaseyNeistat  ...  1978978         NaN         NaN\n",
              "1  KNH52UF?48         24.0  LastWeekTonight  ...  1487870         NaN         NaN\n",
              "2  QTW28IRG36         23.0     Rudy Mancuso  ...  1502102         NaN         NaN\n",
              "\n",
              "[3 rows x 19 columns]"
            ]
          },
          "metadata": {},
          "execution_count": 52
        }
      ]
    },
    {
      "cell_type": "markdown",
      "metadata": {
        "id": "olAxKxTMOQDp"
      },
      "source": [
        "**Basic Dataset Exploration**"
      ]
    },
    {
      "cell_type": "code",
      "metadata": {
        "colab": {
          "base_uri": "https://localhost:8080/"
        },
        "id": "S5YD677nON6w",
        "outputId": "601622f1-d3dd-4937-b92b-b532871eaa0d"
      },
      "source": [
        "df_youtube.shape"
      ],
      "execution_count": 53,
      "outputs": [
        {
          "output_type": "execute_result",
          "data": {
            "text/plain": [
              "(3198, 19)"
            ]
          },
          "metadata": {},
          "execution_count": 53
        }
      ]
    },
    {
      "cell_type": "code",
      "metadata": {
        "colab": {
          "base_uri": "https://localhost:8080/"
        },
        "id": "72nWr2tHOUHt",
        "outputId": "1afc4ac1-7590-4f91-8281-1512ac2762a6"
      },
      "source": [
        "#information about data\n",
        "df_youtube.info()"
      ],
      "execution_count": 54,
      "outputs": [
        {
          "output_type": "stream",
          "name": "stdout",
          "text": [
            "<class 'pandas.core.frame.DataFrame'>\n",
            "RangeIndex: 3198 entries, 0 to 3197\n",
            "Data columns (total 19 columns):\n",
            " #   Column                 Non-Null Count  Dtype  \n",
            "---  ------                 --------------  -----  \n",
            " 0   Video_id               3198 non-null   object \n",
            " 1   category_id            3192 non-null   float64\n",
            " 2   channel_title          3195 non-null   object \n",
            " 3   subscriber             3175 non-null   float64\n",
            " 4   title                  3195 non-null   object \n",
            " 5   tags                   3046 non-null   object \n",
            " 6   description            3133 non-null   object \n",
            " 7   Trend_day_count        3197 non-null   float64\n",
            " 8   Tag_count              3197 non-null   object \n",
            " 9   Trend_tag_count        3197 non-null   object \n",
            " 10  comment_count          3198 non-null   object \n",
            " 11  comment_disabled       3198 non-null   object \n",
            " 12  like dislike disabled  3198 non-null   object \n",
            " 13  likes                  3198 non-null   object \n",
            " 14  dislike                3198 non-null   object \n",
            " 15  tag appered in title   3197 non-null   object \n",
            " 16  views                  3198 non-null   object \n",
            " 17  Unnamed: 17            1 non-null      float64\n",
            " 18  Unnamed: 18            1 non-null      object \n",
            "dtypes: float64(4), object(15)\n",
            "memory usage: 474.8+ KB\n"
          ]
        }
      ]
    },
    {
      "cell_type": "code",
      "metadata": {
        "colab": {
          "base_uri": "https://localhost:8080/"
        },
        "id": "q2NO8LDCOWbk",
        "outputId": "0952acbf-21c7-47ec-816d-af332e3e1497"
      },
      "source": [
        "df_youtube.dtypes  #information about the datatypes available in the dataset"
      ],
      "execution_count": 55,
      "outputs": [
        {
          "output_type": "execute_result",
          "data": {
            "text/plain": [
              "Video_id                  object\n",
              "category_id              float64\n",
              "channel_title             object\n",
              "subscriber               float64\n",
              "title                     object\n",
              "tags                      object\n",
              "description               object\n",
              "Trend_day_count          float64\n",
              "Tag_count                 object\n",
              "Trend_tag_count           object\n",
              "comment_count             object\n",
              "comment_disabled          object\n",
              "like dislike disabled     object\n",
              "likes                     object\n",
              "dislike                   object\n",
              "tag appered in title      object\n",
              "views                     object\n",
              "Unnamed: 17              float64\n",
              "Unnamed: 18               object\n",
              "dtype: object"
            ]
          },
          "metadata": {},
          "execution_count": 55
        }
      ]
    },
    {
      "cell_type": "code",
      "metadata": {
        "colab": {
          "base_uri": "https://localhost:8080/",
          "height": 297
        },
        "id": "IKxslz6AOauw",
        "outputId": "7c64c6a1-40ee-4356-f461-2795dd68e624"
      },
      "source": [
        "df_youtube.describe()"
      ],
      "execution_count": 56,
      "outputs": [
        {
          "output_type": "execute_result",
          "data": {
            "text/html": [
              "<div>\n",
              "<style scoped>\n",
              "    .dataframe tbody tr th:only-of-type {\n",
              "        vertical-align: middle;\n",
              "    }\n",
              "\n",
              "    .dataframe tbody tr th {\n",
              "        vertical-align: top;\n",
              "    }\n",
              "\n",
              "    .dataframe thead th {\n",
              "        text-align: right;\n",
              "    }\n",
              "</style>\n",
              "<table border=\"1\" class=\"dataframe\">\n",
              "  <thead>\n",
              "    <tr style=\"text-align: right;\">\n",
              "      <th></th>\n",
              "      <th>category_id</th>\n",
              "      <th>subscriber</th>\n",
              "      <th>Trend_day_count</th>\n",
              "      <th>Unnamed: 17</th>\n",
              "    </tr>\n",
              "  </thead>\n",
              "  <tbody>\n",
              "    <tr>\n",
              "      <th>count</th>\n",
              "      <td>3192.000000</td>\n",
              "      <td>3.175000e+03</td>\n",
              "      <td>3197.000000</td>\n",
              "      <td>1.0</td>\n",
              "    </tr>\n",
              "    <tr>\n",
              "      <th>mean</th>\n",
              "      <td>20.360276</td>\n",
              "      <td>3.823981e+06</td>\n",
              "      <td>7.964342</td>\n",
              "      <td>2544.0</td>\n",
              "    </tr>\n",
              "    <tr>\n",
              "      <th>std</th>\n",
              "      <td>7.333778</td>\n",
              "      <td>2.865771e+07</td>\n",
              "      <td>78.556055</td>\n",
              "      <td>NaN</td>\n",
              "    </tr>\n",
              "    <tr>\n",
              "      <th>min</th>\n",
              "      <td>1.000000</td>\n",
              "      <td>0.000000e+00</td>\n",
              "      <td>0.000000</td>\n",
              "      <td>2544.0</td>\n",
              "    </tr>\n",
              "    <tr>\n",
              "      <th>25%</th>\n",
              "      <td>17.000000</td>\n",
              "      <td>2.428800e+05</td>\n",
              "      <td>4.000000</td>\n",
              "      <td>2544.0</td>\n",
              "    </tr>\n",
              "    <tr>\n",
              "      <th>50%</th>\n",
              "      <td>24.000000</td>\n",
              "      <td>1.241220e+06</td>\n",
              "      <td>7.000000</td>\n",
              "      <td>2544.0</td>\n",
              "    </tr>\n",
              "    <tr>\n",
              "      <th>75%</th>\n",
              "      <td>25.000000</td>\n",
              "      <td>3.812622e+06</td>\n",
              "      <td>10.000000</td>\n",
              "      <td>2544.0</td>\n",
              "    </tr>\n",
              "    <tr>\n",
              "      <th>max</th>\n",
              "      <td>43.000000</td>\n",
              "      <td>1.576229e+09</td>\n",
              "      <td>4444.000000</td>\n",
              "      <td>2544.0</td>\n",
              "    </tr>\n",
              "  </tbody>\n",
              "</table>\n",
              "</div>"
            ],
            "text/plain": [
              "       category_id    subscriber  Trend_day_count  Unnamed: 17\n",
              "count  3192.000000  3.175000e+03      3197.000000          1.0\n",
              "mean     20.360276  3.823981e+06         7.964342       2544.0\n",
              "std       7.333778  2.865771e+07        78.556055          NaN\n",
              "min       1.000000  0.000000e+00         0.000000       2544.0\n",
              "25%      17.000000  2.428800e+05         4.000000       2544.0\n",
              "50%      24.000000  1.241220e+06         7.000000       2544.0\n",
              "75%      25.000000  3.812622e+06        10.000000       2544.0\n",
              "max      43.000000  1.576229e+09      4444.000000       2544.0"
            ]
          },
          "metadata": {},
          "execution_count": 56
        }
      ]
    },
    {
      "cell_type": "code",
      "metadata": {
        "colab": {
          "base_uri": "https://localhost:8080/"
        },
        "id": "z81fJpdWOeBC",
        "outputId": "2a5371c8-a40a-4c42-812d-c57e330e43fc"
      },
      "source": [
        "df_youtube.isnull().sum()   # checking for missing values in the columns"
      ],
      "execution_count": 57,
      "outputs": [
        {
          "output_type": "execute_result",
          "data": {
            "text/plain": [
              "Video_id                    0\n",
              "category_id                 6\n",
              "channel_title               3\n",
              "subscriber                 23\n",
              "title                       3\n",
              "tags                      152\n",
              "description                65\n",
              "Trend_day_count             1\n",
              "Tag_count                   1\n",
              "Trend_tag_count             1\n",
              "comment_count               0\n",
              "comment_disabled            0\n",
              "like dislike disabled       0\n",
              "likes                       0\n",
              "dislike                     0\n",
              "tag appered in title        1\n",
              "views                       0\n",
              "Unnamed: 17              3197\n",
              "Unnamed: 18              3197\n",
              "dtype: int64"
            ]
          },
          "metadata": {},
          "execution_count": 57
        }
      ]
    },
    {
      "cell_type": "markdown",
      "metadata": {
        "id": "nHRF8EDAOogl"
      },
      "source": [
        "*From the above description,there are two unnamed columns.These columns can be dropped as they can not be used for further analysis*"
      ]
    },
    {
      "cell_type": "code",
      "metadata": {
        "id": "IxAhUO_1Of60"
      },
      "source": [
        "#dropping the two Unnamed columns\n",
        "df_youtube.drop('Unnamed: 18', inplace=True, axis=1)"
      ],
      "execution_count": 58,
      "outputs": []
    },
    {
      "cell_type": "code",
      "metadata": {
        "id": "ZbQh_5h1OiU3"
      },
      "source": [
        "df_youtube.drop('Unnamed: 17', inplace=True, axis=1)"
      ],
      "execution_count": 59,
      "outputs": []
    },
    {
      "cell_type": "code",
      "metadata": {
        "colab": {
          "base_uri": "https://localhost:8080/"
        },
        "id": "Ji2BTnFaOkGT",
        "outputId": "157f2603-bc0f-40a0-c700-d1880f9b861c"
      },
      "source": [
        "df_youtube.info()   # to check whether the Unnamed columns have been removed permanently\n"
      ],
      "execution_count": 60,
      "outputs": [
        {
          "output_type": "stream",
          "name": "stdout",
          "text": [
            "<class 'pandas.core.frame.DataFrame'>\n",
            "RangeIndex: 3198 entries, 0 to 3197\n",
            "Data columns (total 17 columns):\n",
            " #   Column                 Non-Null Count  Dtype  \n",
            "---  ------                 --------------  -----  \n",
            " 0   Video_id               3198 non-null   object \n",
            " 1   category_id            3192 non-null   float64\n",
            " 2   channel_title          3195 non-null   object \n",
            " 3   subscriber             3175 non-null   float64\n",
            " 4   title                  3195 non-null   object \n",
            " 5   tags                   3046 non-null   object \n",
            " 6   description            3133 non-null   object \n",
            " 7   Trend_day_count        3197 non-null   float64\n",
            " 8   Tag_count              3197 non-null   object \n",
            " 9   Trend_tag_count        3197 non-null   object \n",
            " 10  comment_count          3198 non-null   object \n",
            " 11  comment_disabled       3198 non-null   object \n",
            " 12  like dislike disabled  3198 non-null   object \n",
            " 13  likes                  3198 non-null   object \n",
            " 14  dislike                3198 non-null   object \n",
            " 15  tag appered in title   3197 non-null   object \n",
            " 16  views                  3198 non-null   object \n",
            "dtypes: float64(3), object(14)\n",
            "memory usage: 424.9+ KB\n"
          ]
        }
      ]
    },
    {
      "cell_type": "code",
      "metadata": {
        "colab": {
          "base_uri": "https://localhost:8080/"
        },
        "id": "eENrMJTzOugc",
        "outputId": "9847d444-cb40-4a44-faff-fcc0ea340e73"
      },
      "source": [
        "df_youtube.isnull().sum()  # Again checking for null values in the dataset and dropping the rows that has mininum null values"
      ],
      "execution_count": 61,
      "outputs": [
        {
          "output_type": "execute_result",
          "data": {
            "text/plain": [
              "Video_id                   0\n",
              "category_id                6\n",
              "channel_title              3\n",
              "subscriber                23\n",
              "title                      3\n",
              "tags                     152\n",
              "description               65\n",
              "Trend_day_count            1\n",
              "Tag_count                  1\n",
              "Trend_tag_count            1\n",
              "comment_count              0\n",
              "comment_disabled           0\n",
              "like dislike disabled      0\n",
              "likes                      0\n",
              "dislike                    0\n",
              "tag appered in title       1\n",
              "views                      0\n",
              "dtype: int64"
            ]
          },
          "metadata": {},
          "execution_count": 61
        }
      ]
    },
    {
      "cell_type": "code",
      "metadata": {
        "colab": {
          "base_uri": "https://localhost:8080/"
        },
        "id": "zAW1hCQ_Ozqq",
        "outputId": "555b4f19-4c0d-4201-95e8-9cbe1badfaba"
      },
      "source": [
        "df_youtube= df_youtube.dropna(subset=['Tag_count','Trend_tag_count','tag appered in title',\"Trend_day_count\"])\n",
        "print(df_youtube)"
      ],
      "execution_count": 62,
      "outputs": [
        {
          "output_type": "stream",
          "name": "stdout",
          "text": [
            "        Video_id  category_id  ... tag appered in title    views\n",
            "0      HDR9SQc79         22.0  ...                False  1978978\n",
            "1     KNH52UF?48         24.0  ...                False  1487870\n",
            "2     QTW28IRG36         23.0  ...                 True  1502102\n",
            "3     MGL76WI]26         24.0  ...                 True  3519302\n",
            "4     TWP93KXT70         24.0  ...                 True  4835374\n",
            "...          ...          ...  ...                  ...      ...\n",
            "3193  OKR48DOE67         20.0  ...                False   747960\n",
            "3194  QJK69DS?91         10.0  ...                 True   200410\n",
            "3195  VHF51NVr11         10.0  ...                 True   244022\n",
            "3196  XHU22OAJ39         26.0  ...                 True   907340\n",
            "3197  IFD79NSG47         22.0  ...                 True   465531\n",
            "\n",
            "[3194 rows x 17 columns]\n"
          ]
        }
      ]
    },
    {
      "cell_type": "code",
      "metadata": {
        "colab": {
          "base_uri": "https://localhost:8080/"
        },
        "id": "I--BG59VO3zM",
        "outputId": "050f2da7-306c-4be0-ffc2-9d3e27dd6f27"
      },
      "source": [
        "#Tag_count,Trend_tag_count,tag appered in title,Trend_day_count's null values have been removed\n",
        "df_youtube.isnull().sum()"
      ],
      "execution_count": 63,
      "outputs": [
        {
          "output_type": "execute_result",
          "data": {
            "text/plain": [
              "Video_id                   0\n",
              "category_id                6\n",
              "channel_title              3\n",
              "subscriber                23\n",
              "title                      2\n",
              "tags                     151\n",
              "description               65\n",
              "Trend_day_count            0\n",
              "Tag_count                  0\n",
              "Trend_tag_count            0\n",
              "comment_count              0\n",
              "comment_disabled           0\n",
              "like dislike disabled      0\n",
              "likes                      0\n",
              "dislike                    0\n",
              "tag appered in title       0\n",
              "views                      0\n",
              "dtype: int64"
            ]
          },
          "metadata": {},
          "execution_count": 63
        }
      ]
    },
    {
      "cell_type": "markdown",
      "metadata": {
        "id": "Qj91Bdq9O8Yu"
      },
      "source": [
        "***Checking for duplicates in the dataset***"
      ]
    },
    {
      "cell_type": "code",
      "metadata": {
        "colab": {
          "base_uri": "https://localhost:8080/"
        },
        "id": "g6bKmhR-O57U",
        "outputId": "46402c9b-a1b9-42e1-a598-7ac12b413fcb"
      },
      "source": [
        "df_youtube.duplicated(subset=None, keep='first')\n",
        "# No Duplicates have been found"
      ],
      "execution_count": 64,
      "outputs": [
        {
          "output_type": "execute_result",
          "data": {
            "text/plain": [
              "0       False\n",
              "1       False\n",
              "2       False\n",
              "3       False\n",
              "4       False\n",
              "        ...  \n",
              "3193    False\n",
              "3194    False\n",
              "3195    False\n",
              "3196    False\n",
              "3197    False\n",
              "Length: 3194, dtype: bool"
            ]
          },
          "metadata": {},
          "execution_count": 64
        }
      ]
    },
    {
      "cell_type": "markdown",
      "metadata": {
        "id": "nPEzc0mXPAfP"
      },
      "source": [
        "As **[\"comment_disabled\"]** and  **[\"like dislike disabled\"]** are categorical variables these can be converted into **indicator variable** using *pd.get_dummies()*"
      ]
    },
    {
      "cell_type": "code",
      "metadata": {
        "colab": {
          "base_uri": "https://localhost:8080/",
          "height": 419
        },
        "id": "NBlK61AFO-LF",
        "outputId": "a64c3c79-22ab-465b-c58a-44fc1a451bdb"
      },
      "source": [
        "dummy=pd.get_dummies(df_youtube['comment_disabled'],prefix=\"Comment_disabled\")\n",
        "# turns the column comment_disabled into a dummy\n",
        "dummy"
      ],
      "execution_count": 65,
      "outputs": [
        {
          "output_type": "execute_result",
          "data": {
            "text/html": [
              "<div>\n",
              "<style scoped>\n",
              "    .dataframe tbody tr th:only-of-type {\n",
              "        vertical-align: middle;\n",
              "    }\n",
              "\n",
              "    .dataframe tbody tr th {\n",
              "        vertical-align: top;\n",
              "    }\n",
              "\n",
              "    .dataframe thead th {\n",
              "        text-align: right;\n",
              "    }\n",
              "</style>\n",
              "<table border=\"1\" class=\"dataframe\">\n",
              "  <thead>\n",
              "    <tr style=\"text-align: right;\">\n",
              "      <th></th>\n",
              "      <th>Comment_disabled_FALSE</th>\n",
              "      <th>Comment_disabled_TRUE</th>\n",
              "    </tr>\n",
              "  </thead>\n",
              "  <tbody>\n",
              "    <tr>\n",
              "      <th>0</th>\n",
              "      <td>1</td>\n",
              "      <td>0</td>\n",
              "    </tr>\n",
              "    <tr>\n",
              "      <th>1</th>\n",
              "      <td>0</td>\n",
              "      <td>1</td>\n",
              "    </tr>\n",
              "    <tr>\n",
              "      <th>2</th>\n",
              "      <td>0</td>\n",
              "      <td>1</td>\n",
              "    </tr>\n",
              "    <tr>\n",
              "      <th>3</th>\n",
              "      <td>0</td>\n",
              "      <td>1</td>\n",
              "    </tr>\n",
              "    <tr>\n",
              "      <th>4</th>\n",
              "      <td>0</td>\n",
              "      <td>1</td>\n",
              "    </tr>\n",
              "    <tr>\n",
              "      <th>...</th>\n",
              "      <td>...</td>\n",
              "      <td>...</td>\n",
              "    </tr>\n",
              "    <tr>\n",
              "      <th>3193</th>\n",
              "      <td>1</td>\n",
              "      <td>0</td>\n",
              "    </tr>\n",
              "    <tr>\n",
              "      <th>3194</th>\n",
              "      <td>1</td>\n",
              "      <td>0</td>\n",
              "    </tr>\n",
              "    <tr>\n",
              "      <th>3195</th>\n",
              "      <td>1</td>\n",
              "      <td>0</td>\n",
              "    </tr>\n",
              "    <tr>\n",
              "      <th>3196</th>\n",
              "      <td>0</td>\n",
              "      <td>1</td>\n",
              "    </tr>\n",
              "    <tr>\n",
              "      <th>3197</th>\n",
              "      <td>0</td>\n",
              "      <td>1</td>\n",
              "    </tr>\n",
              "  </tbody>\n",
              "</table>\n",
              "<p>3194 rows × 2 columns</p>\n",
              "</div>"
            ],
            "text/plain": [
              "      Comment_disabled_FALSE  Comment_disabled_TRUE\n",
              "0                          1                      0\n",
              "1                          0                      1\n",
              "2                          0                      1\n",
              "3                          0                      1\n",
              "4                          0                      1\n",
              "...                      ...                    ...\n",
              "3193                       1                      0\n",
              "3194                       1                      0\n",
              "3195                       1                      0\n",
              "3196                       0                      1\n",
              "3197                       0                      1\n",
              "\n",
              "[3194 rows x 2 columns]"
            ]
          },
          "metadata": {},
          "execution_count": 65
        }
      ]
    },
    {
      "cell_type": "code",
      "metadata": {
        "colab": {
          "base_uri": "https://localhost:8080/",
          "height": 1000
        },
        "id": "Oub6_Y4_PEKg",
        "outputId": "19b7a036-6ed0-4a8a-dc4f-3a421d88bca9"
      },
      "source": [
        "#merging the dummy variables/DataFrame into our original dataframe df_youtube\n",
        "df_youtube=df_youtube.merge(dummy,left_index=True,right_index=True)\n",
        "df_youtube"
      ],
      "execution_count": 66,
      "outputs": [
        {
          "output_type": "execute_result",
          "data": {
            "text/html": [
              "<div>\n",
              "<style scoped>\n",
              "    .dataframe tbody tr th:only-of-type {\n",
              "        vertical-align: middle;\n",
              "    }\n",
              "\n",
              "    .dataframe tbody tr th {\n",
              "        vertical-align: top;\n",
              "    }\n",
              "\n",
              "    .dataframe thead th {\n",
              "        text-align: right;\n",
              "    }\n",
              "</style>\n",
              "<table border=\"1\" class=\"dataframe\">\n",
              "  <thead>\n",
              "    <tr style=\"text-align: right;\">\n",
              "      <th></th>\n",
              "      <th>Video_id</th>\n",
              "      <th>category_id</th>\n",
              "      <th>channel_title</th>\n",
              "      <th>subscriber</th>\n",
              "      <th>title</th>\n",
              "      <th>tags</th>\n",
              "      <th>description</th>\n",
              "      <th>Trend_day_count</th>\n",
              "      <th>Tag_count</th>\n",
              "      <th>Trend_tag_count</th>\n",
              "      <th>comment_count</th>\n",
              "      <th>comment_disabled</th>\n",
              "      <th>like dislike disabled</th>\n",
              "      <th>likes</th>\n",
              "      <th>dislike</th>\n",
              "      <th>tag appered in title</th>\n",
              "      <th>views</th>\n",
              "      <th>Comment_disabled_FALSE</th>\n",
              "      <th>Comment_disabled_TRUE</th>\n",
              "    </tr>\n",
              "  </thead>\n",
              "  <tbody>\n",
              "    <tr>\n",
              "      <th>0</th>\n",
              "      <td>HDR9SQc79</td>\n",
              "      <td>22.0</td>\n",
              "      <td>CaseyNeistat</td>\n",
              "      <td>9086142.0</td>\n",
              "      <td>WE WANT TO TALK ABOUT OUR MARRIAGE</td>\n",
              "      <td>SHANtell martin</td>\n",
              "      <td>SHANTELL'S CHANNEL - https://www.youtube.com/s...</td>\n",
              "      <td>6.0</td>\n",
              "      <td>21</td>\n",
              "      <td>6</td>\n",
              "      <td></td>\n",
              "      <td>FALSE</td>\n",
              "      <td>FALSE</td>\n",
              "      <td>13342</td>\n",
              "      <td>6089</td>\n",
              "      <td>False</td>\n",
              "      <td>1978978</td>\n",
              "      <td>1</td>\n",
              "      <td>0</td>\n",
              "    </tr>\n",
              "    <tr>\n",
              "      <th>1</th>\n",
              "      <td>KNH52UF?48</td>\n",
              "      <td>24.0</td>\n",
              "      <td>LastWeekTonight</td>\n",
              "      <td>5937292.0</td>\n",
              "      <td>The Trump Presidency: Last Week Tonight with J...</td>\n",
              "      <td>last week tonight trump presidency|last week t...</td>\n",
              "      <td>One year after the presidential election, John...</td>\n",
              "      <td>1.0</td>\n",
              "      <td>23</td>\n",
              "      <td>1</td>\n",
              "      <td>116266</td>\n",
              "      <td>TRUE</td>\n",
              "      <td>FALSE</td>\n",
              "      <td>5761</td>\n",
              "      <td>3044</td>\n",
              "      <td>False</td>\n",
              "      <td>1487870</td>\n",
              "      <td>0</td>\n",
              "      <td>1</td>\n",
              "    </tr>\n",
              "    <tr>\n",
              "      <th>2</th>\n",
              "      <td>QTW28IRG36</td>\n",
              "      <td>23.0</td>\n",
              "      <td>Rudy Mancuso</td>\n",
              "      <td>4191209.0</td>\n",
              "      <td>Racist Superman | Rudy Mancuso, King Bach &amp; Le...</td>\n",
              "      <td>racist superman|rudy|mancuso|king|bach|racist|...</td>\n",
              "      <td>WATCH MY PREVIOUS VIDEO ▶ \\n\\nSUBSCRIBE ► http...</td>\n",
              "      <td>10.0</td>\n",
              "      <td>22</td>\n",
              "      <td>3</td>\n",
              "      <td>257850</td>\n",
              "      <td>TRUE</td>\n",
              "      <td>TRUE</td>\n",
              "      <td>0</td>\n",
              "      <td>0</td>\n",
              "      <td>True</td>\n",
              "      <td>1502102</td>\n",
              "      <td>0</td>\n",
              "      <td>1</td>\n",
              "    </tr>\n",
              "    <tr>\n",
              "      <th>3</th>\n",
              "      <td>MGL76WI]26</td>\n",
              "      <td>24.0</td>\n",
              "      <td>Good Mythical Morning</td>\n",
              "      <td>13186408.0</td>\n",
              "      <td>Nickelback Lyrics: Real or Fake?</td>\n",
              "      <td>rhett and link|gmm|good mythical morning|rhett...</td>\n",
              "      <td>Today we find out if Link is a Nickelback amat...</td>\n",
              "      <td>12.0</td>\n",
              "      <td>17</td>\n",
              "      <td>5</td>\n",
              "      <td>263939</td>\n",
              "      <td>TRUE</td>\n",
              "      <td>TRUE</td>\n",
              "      <td>0</td>\n",
              "      <td>0</td>\n",
              "      <td>True</td>\n",
              "      <td>3519302</td>\n",
              "      <td>0</td>\n",
              "      <td>1</td>\n",
              "    </tr>\n",
              "    <tr>\n",
              "      <th>4</th>\n",
              "      <td>TWP93KXT70</td>\n",
              "      <td>24.0</td>\n",
              "      <td>nigahiga</td>\n",
              "      <td>20563106.0</td>\n",
              "      <td>I Dare You: GOING BALD!?</td>\n",
              "      <td>ryan|higa|higatv|nigahiga|i dare you|idy|rhpc|...</td>\n",
              "      <td>I know it's been a while since we did this sho...</td>\n",
              "      <td>11.0</td>\n",
              "      <td>15</td>\n",
              "      <td>7</td>\n",
              "      <td>268085</td>\n",
              "      <td>TRUE</td>\n",
              "      <td>TRUE</td>\n",
              "      <td>0</td>\n",
              "      <td>0</td>\n",
              "      <td>True</td>\n",
              "      <td>4835374</td>\n",
              "      <td>0</td>\n",
              "      <td>1</td>\n",
              "    </tr>\n",
              "    <tr>\n",
              "      <th>...</th>\n",
              "      <td>...</td>\n",
              "      <td>...</td>\n",
              "      <td>...</td>\n",
              "      <td>...</td>\n",
              "      <td>...</td>\n",
              "      <td>...</td>\n",
              "      <td>...</td>\n",
              "      <td>...</td>\n",
              "      <td>...</td>\n",
              "      <td>...</td>\n",
              "      <td>...</td>\n",
              "      <td>...</td>\n",
              "      <td>...</td>\n",
              "      <td>...</td>\n",
              "      <td>...</td>\n",
              "      <td>...</td>\n",
              "      <td>...</td>\n",
              "      <td>...</td>\n",
              "      <td>...</td>\n",
              "    </tr>\n",
              "    <tr>\n",
              "      <th>3193</th>\n",
              "      <td>OKR48DOE67</td>\n",
              "      <td>20.0</td>\n",
              "      <td>EA SPORTS FIFA</td>\n",
              "      <td>3150213.0</td>\n",
              "      <td>FIFA 18 - FUT Champions Cup Barcelona - Day 1</td>\n",
              "      <td>fifa|fifa ultimate team|fut|fifa pack opening|...</td>\n",
              "      <td>Day 1 of the FUT Champions Cup Barcelona featu...</td>\n",
              "      <td>7.0</td>\n",
              "      <td>20</td>\n",
              "      <td>5</td>\n",
              "      <td></td>\n",
              "      <td>FALSE</td>\n",
              "      <td>FALSE</td>\n",
              "      <td>9734</td>\n",
              "      <td>5912</td>\n",
              "      <td>False</td>\n",
              "      <td>747960</td>\n",
              "      <td>1</td>\n",
              "      <td>0</td>\n",
              "    </tr>\n",
              "    <tr>\n",
              "      <th>3194</th>\n",
              "      <td>QJK69DS?91</td>\n",
              "      <td>10.0</td>\n",
              "      <td>JackWhiteVEVO</td>\n",
              "      <td>261596.0</td>\n",
              "      <td>Jack White - Corporation (Audio)</td>\n",
              "      <td>Alternative|Corporation|Jack White|Third Man R...</td>\n",
              "      <td>“Corporation” by Jack White from the forthcomi...</td>\n",
              "      <td>7.0</td>\n",
              "      <td>8</td>\n",
              "      <td>6</td>\n",
              "      <td></td>\n",
              "      <td>FALSE</td>\n",
              "      <td>FALSE</td>\n",
              "      <td>16006</td>\n",
              "      <td>12019</td>\n",
              "      <td>True</td>\n",
              "      <td>200410</td>\n",
              "      <td>1</td>\n",
              "      <td>0</td>\n",
              "    </tr>\n",
              "    <tr>\n",
              "      <th>3195</th>\n",
              "      <td>VHF51NVr11</td>\n",
              "      <td>10.0</td>\n",
              "      <td>JamesBlakeVEVO</td>\n",
              "      <td>28321.0</td>\n",
              "      <td>James Blake - If The Car Beside You Moves Ahea...</td>\n",
              "      <td>James|Blake|If|The|Car|Beside|You|Moves|Ahead|...</td>\n",
              "      <td>If the car beside you moves ahead \\nAs much as...</td>\n",
              "      <td>11.0</td>\n",
              "      <td>15</td>\n",
              "      <td>4</td>\n",
              "      <td></td>\n",
              "      <td>FALSE</td>\n",
              "      <td>TRUE</td>\n",
              "      <td>0</td>\n",
              "      <td>0</td>\n",
              "      <td>True</td>\n",
              "      <td>244022</td>\n",
              "      <td>1</td>\n",
              "      <td>0</td>\n",
              "    </tr>\n",
              "    <tr>\n",
              "      <th>3196</th>\n",
              "      <td>XHU22OAJ39</td>\n",
              "      <td>26.0</td>\n",
              "      <td>Refinery29</td>\n",
              "      <td>890739.0</td>\n",
              "      <td>Lucie Fink Trains Like A Professional Gymnast ...</td>\n",
              "      <td>refinery29|refinery 29|r29|r29 video|refinery2...</td>\n",
              "      <td>On this episode of Lucie For Hire, our host Lu...</td>\n",
              "      <td>11.0</td>\n",
              "      <td>14</td>\n",
              "      <td>6</td>\n",
              "      <td>250750</td>\n",
              "      <td>TRUE</td>\n",
              "      <td>FALSE</td>\n",
              "      <td>6859</td>\n",
              "      <td>1247</td>\n",
              "      <td>True</td>\n",
              "      <td>907340</td>\n",
              "      <td>0</td>\n",
              "      <td>1</td>\n",
              "    </tr>\n",
              "    <tr>\n",
              "      <th>3197</th>\n",
              "      <td>IFD79NSG47</td>\n",
              "      <td>22.0</td>\n",
              "      <td>MN khan</td>\n",
              "      <td>0.0</td>\n",
              "      <td>Man drops magnum of Champagne on the floor in ...</td>\n",
              "      <td>NaN</td>\n",
              "      <td>Man spills magnum of champagne ‘worth £30,000’...</td>\n",
              "      <td>12.0</td>\n",
              "      <td>12</td>\n",
              "      <td>4</td>\n",
              "      <td>32337</td>\n",
              "      <td>TRUE</td>\n",
              "      <td>FALSE</td>\n",
              "      <td>8339</td>\n",
              "      <td>5436</td>\n",
              "      <td>True</td>\n",
              "      <td>465531</td>\n",
              "      <td>0</td>\n",
              "      <td>1</td>\n",
              "    </tr>\n",
              "  </tbody>\n",
              "</table>\n",
              "<p>3194 rows × 19 columns</p>\n",
              "</div>"
            ],
            "text/plain": [
              "        Video_id  category_id  ... Comment_disabled_FALSE  Comment_disabled_TRUE\n",
              "0      HDR9SQc79         22.0  ...                      1                      0\n",
              "1     KNH52UF?48         24.0  ...                      0                      1\n",
              "2     QTW28IRG36         23.0  ...                      0                      1\n",
              "3     MGL76WI]26         24.0  ...                      0                      1\n",
              "4     TWP93KXT70         24.0  ...                      0                      1\n",
              "...          ...          ...  ...                    ...                    ...\n",
              "3193  OKR48DOE67         20.0  ...                      1                      0\n",
              "3194  QJK69DS?91         10.0  ...                      1                      0\n",
              "3195  VHF51NVr11         10.0  ...                      1                      0\n",
              "3196  XHU22OAJ39         26.0  ...                      0                      1\n",
              "3197  IFD79NSG47         22.0  ...                      0                      1\n",
              "\n",
              "[3194 rows x 19 columns]"
            ]
          },
          "metadata": {},
          "execution_count": 66
        }
      ]
    },
    {
      "cell_type": "code",
      "metadata": {
        "colab": {
          "base_uri": "https://localhost:8080/",
          "height": 419
        },
        "id": "0YAiJTDaPGv7",
        "outputId": "9b4974e9-0158-4417-a1f1-4ae980355900"
      },
      "source": [
        "dum=pd.get_dummies(df_youtube['like dislike disabled'],prefix='likedislike_disabled')\n",
        "dum"
      ],
      "execution_count": 67,
      "outputs": [
        {
          "output_type": "execute_result",
          "data": {
            "text/html": [
              "<div>\n",
              "<style scoped>\n",
              "    .dataframe tbody tr th:only-of-type {\n",
              "        vertical-align: middle;\n",
              "    }\n",
              "\n",
              "    .dataframe tbody tr th {\n",
              "        vertical-align: top;\n",
              "    }\n",
              "\n",
              "    .dataframe thead th {\n",
              "        text-align: right;\n",
              "    }\n",
              "</style>\n",
              "<table border=\"1\" class=\"dataframe\">\n",
              "  <thead>\n",
              "    <tr style=\"text-align: right;\">\n",
              "      <th></th>\n",
              "      <th>likedislike_disabled_FALSE</th>\n",
              "      <th>likedislike_disabled_TRUE</th>\n",
              "    </tr>\n",
              "  </thead>\n",
              "  <tbody>\n",
              "    <tr>\n",
              "      <th>0</th>\n",
              "      <td>1</td>\n",
              "      <td>0</td>\n",
              "    </tr>\n",
              "    <tr>\n",
              "      <th>1</th>\n",
              "      <td>1</td>\n",
              "      <td>0</td>\n",
              "    </tr>\n",
              "    <tr>\n",
              "      <th>2</th>\n",
              "      <td>0</td>\n",
              "      <td>1</td>\n",
              "    </tr>\n",
              "    <tr>\n",
              "      <th>3</th>\n",
              "      <td>0</td>\n",
              "      <td>1</td>\n",
              "    </tr>\n",
              "    <tr>\n",
              "      <th>4</th>\n",
              "      <td>0</td>\n",
              "      <td>1</td>\n",
              "    </tr>\n",
              "    <tr>\n",
              "      <th>...</th>\n",
              "      <td>...</td>\n",
              "      <td>...</td>\n",
              "    </tr>\n",
              "    <tr>\n",
              "      <th>3193</th>\n",
              "      <td>1</td>\n",
              "      <td>0</td>\n",
              "    </tr>\n",
              "    <tr>\n",
              "      <th>3194</th>\n",
              "      <td>1</td>\n",
              "      <td>0</td>\n",
              "    </tr>\n",
              "    <tr>\n",
              "      <th>3195</th>\n",
              "      <td>0</td>\n",
              "      <td>1</td>\n",
              "    </tr>\n",
              "    <tr>\n",
              "      <th>3196</th>\n",
              "      <td>1</td>\n",
              "      <td>0</td>\n",
              "    </tr>\n",
              "    <tr>\n",
              "      <th>3197</th>\n",
              "      <td>1</td>\n",
              "      <td>0</td>\n",
              "    </tr>\n",
              "  </tbody>\n",
              "</table>\n",
              "<p>3194 rows × 2 columns</p>\n",
              "</div>"
            ],
            "text/plain": [
              "      likedislike_disabled_FALSE  likedislike_disabled_TRUE\n",
              "0                              1                          0\n",
              "1                              1                          0\n",
              "2                              0                          1\n",
              "3                              0                          1\n",
              "4                              0                          1\n",
              "...                          ...                        ...\n",
              "3193                           1                          0\n",
              "3194                           1                          0\n",
              "3195                           0                          1\n",
              "3196                           1                          0\n",
              "3197                           1                          0\n",
              "\n",
              "[3194 rows x 2 columns]"
            ]
          },
          "metadata": {},
          "execution_count": 67
        }
      ]
    },
    {
      "cell_type": "code",
      "metadata": {
        "colab": {
          "base_uri": "https://localhost:8080/",
          "height": 564
        },
        "id": "qMnE-BNkPJWR",
        "outputId": "1684245f-33a6-4e61-d829-0917307c31fb"
      },
      "source": [
        "df_youtube=df_youtube.merge(dum,left_index=True,right_index=True)\n",
        "df_youtube.head()"
      ],
      "execution_count": 68,
      "outputs": [
        {
          "output_type": "execute_result",
          "data": {
            "text/html": [
              "<div>\n",
              "<style scoped>\n",
              "    .dataframe tbody tr th:only-of-type {\n",
              "        vertical-align: middle;\n",
              "    }\n",
              "\n",
              "    .dataframe tbody tr th {\n",
              "        vertical-align: top;\n",
              "    }\n",
              "\n",
              "    .dataframe thead th {\n",
              "        text-align: right;\n",
              "    }\n",
              "</style>\n",
              "<table border=\"1\" class=\"dataframe\">\n",
              "  <thead>\n",
              "    <tr style=\"text-align: right;\">\n",
              "      <th></th>\n",
              "      <th>Video_id</th>\n",
              "      <th>category_id</th>\n",
              "      <th>channel_title</th>\n",
              "      <th>subscriber</th>\n",
              "      <th>title</th>\n",
              "      <th>tags</th>\n",
              "      <th>description</th>\n",
              "      <th>Trend_day_count</th>\n",
              "      <th>Tag_count</th>\n",
              "      <th>Trend_tag_count</th>\n",
              "      <th>comment_count</th>\n",
              "      <th>comment_disabled</th>\n",
              "      <th>like dislike disabled</th>\n",
              "      <th>likes</th>\n",
              "      <th>dislike</th>\n",
              "      <th>tag appered in title</th>\n",
              "      <th>views</th>\n",
              "      <th>Comment_disabled_FALSE</th>\n",
              "      <th>Comment_disabled_TRUE</th>\n",
              "      <th>likedislike_disabled_FALSE</th>\n",
              "      <th>likedislike_disabled_TRUE</th>\n",
              "    </tr>\n",
              "  </thead>\n",
              "  <tbody>\n",
              "    <tr>\n",
              "      <th>0</th>\n",
              "      <td>HDR9SQc79</td>\n",
              "      <td>22.0</td>\n",
              "      <td>CaseyNeistat</td>\n",
              "      <td>9086142.0</td>\n",
              "      <td>WE WANT TO TALK ABOUT OUR MARRIAGE</td>\n",
              "      <td>SHANtell martin</td>\n",
              "      <td>SHANTELL'S CHANNEL - https://www.youtube.com/s...</td>\n",
              "      <td>6.0</td>\n",
              "      <td>21</td>\n",
              "      <td>6</td>\n",
              "      <td></td>\n",
              "      <td>FALSE</td>\n",
              "      <td>FALSE</td>\n",
              "      <td>13342</td>\n",
              "      <td>6089</td>\n",
              "      <td>False</td>\n",
              "      <td>1978978</td>\n",
              "      <td>1</td>\n",
              "      <td>0</td>\n",
              "      <td>1</td>\n",
              "      <td>0</td>\n",
              "    </tr>\n",
              "    <tr>\n",
              "      <th>1</th>\n",
              "      <td>KNH52UF?48</td>\n",
              "      <td>24.0</td>\n",
              "      <td>LastWeekTonight</td>\n",
              "      <td>5937292.0</td>\n",
              "      <td>The Trump Presidency: Last Week Tonight with J...</td>\n",
              "      <td>last week tonight trump presidency|last week t...</td>\n",
              "      <td>One year after the presidential election, John...</td>\n",
              "      <td>1.0</td>\n",
              "      <td>23</td>\n",
              "      <td>1</td>\n",
              "      <td>116266</td>\n",
              "      <td>TRUE</td>\n",
              "      <td>FALSE</td>\n",
              "      <td>5761</td>\n",
              "      <td>3044</td>\n",
              "      <td>False</td>\n",
              "      <td>1487870</td>\n",
              "      <td>0</td>\n",
              "      <td>1</td>\n",
              "      <td>1</td>\n",
              "      <td>0</td>\n",
              "    </tr>\n",
              "    <tr>\n",
              "      <th>2</th>\n",
              "      <td>QTW28IRG36</td>\n",
              "      <td>23.0</td>\n",
              "      <td>Rudy Mancuso</td>\n",
              "      <td>4191209.0</td>\n",
              "      <td>Racist Superman | Rudy Mancuso, King Bach &amp; Le...</td>\n",
              "      <td>racist superman|rudy|mancuso|king|bach|racist|...</td>\n",
              "      <td>WATCH MY PREVIOUS VIDEO ▶ \\n\\nSUBSCRIBE ► http...</td>\n",
              "      <td>10.0</td>\n",
              "      <td>22</td>\n",
              "      <td>3</td>\n",
              "      <td>257850</td>\n",
              "      <td>TRUE</td>\n",
              "      <td>TRUE</td>\n",
              "      <td>0</td>\n",
              "      <td>0</td>\n",
              "      <td>True</td>\n",
              "      <td>1502102</td>\n",
              "      <td>0</td>\n",
              "      <td>1</td>\n",
              "      <td>0</td>\n",
              "      <td>1</td>\n",
              "    </tr>\n",
              "    <tr>\n",
              "      <th>3</th>\n",
              "      <td>MGL76WI]26</td>\n",
              "      <td>24.0</td>\n",
              "      <td>Good Mythical Morning</td>\n",
              "      <td>13186408.0</td>\n",
              "      <td>Nickelback Lyrics: Real or Fake?</td>\n",
              "      <td>rhett and link|gmm|good mythical morning|rhett...</td>\n",
              "      <td>Today we find out if Link is a Nickelback amat...</td>\n",
              "      <td>12.0</td>\n",
              "      <td>17</td>\n",
              "      <td>5</td>\n",
              "      <td>263939</td>\n",
              "      <td>TRUE</td>\n",
              "      <td>TRUE</td>\n",
              "      <td>0</td>\n",
              "      <td>0</td>\n",
              "      <td>True</td>\n",
              "      <td>3519302</td>\n",
              "      <td>0</td>\n",
              "      <td>1</td>\n",
              "      <td>0</td>\n",
              "      <td>1</td>\n",
              "    </tr>\n",
              "    <tr>\n",
              "      <th>4</th>\n",
              "      <td>TWP93KXT70</td>\n",
              "      <td>24.0</td>\n",
              "      <td>nigahiga</td>\n",
              "      <td>20563106.0</td>\n",
              "      <td>I Dare You: GOING BALD!?</td>\n",
              "      <td>ryan|higa|higatv|nigahiga|i dare you|idy|rhpc|...</td>\n",
              "      <td>I know it's been a while since we did this sho...</td>\n",
              "      <td>11.0</td>\n",
              "      <td>15</td>\n",
              "      <td>7</td>\n",
              "      <td>268085</td>\n",
              "      <td>TRUE</td>\n",
              "      <td>TRUE</td>\n",
              "      <td>0</td>\n",
              "      <td>0</td>\n",
              "      <td>True</td>\n",
              "      <td>4835374</td>\n",
              "      <td>0</td>\n",
              "      <td>1</td>\n",
              "      <td>0</td>\n",
              "      <td>1</td>\n",
              "    </tr>\n",
              "  </tbody>\n",
              "</table>\n",
              "</div>"
            ],
            "text/plain": [
              "     Video_id  ...  likedislike_disabled_TRUE\n",
              "0   HDR9SQc79  ...                          0\n",
              "1  KNH52UF?48  ...                          0\n",
              "2  QTW28IRG36  ...                          1\n",
              "3  MGL76WI]26  ...                          1\n",
              "4  TWP93KXT70  ...                          1\n",
              "\n",
              "[5 rows x 21 columns]"
            ]
          },
          "metadata": {},
          "execution_count": 68
        }
      ]
    },
    {
      "cell_type": "code",
      "metadata": {
        "colab": {
          "base_uri": "https://localhost:8080/",
          "height": 564
        },
        "id": "2e5dw7CiPMRb",
        "outputId": "0c85cdea-a4c9-4aef-c92a-8d9d10fdaa1c"
      },
      "source": [
        "#dropping the comment_disabled column \n",
        "df_youtube.drop('comment_disabled', inplace=True, axis=1)\n",
        "df_youtube.head()"
      ],
      "execution_count": 69,
      "outputs": [
        {
          "output_type": "execute_result",
          "data": {
            "text/html": [
              "<div>\n",
              "<style scoped>\n",
              "    .dataframe tbody tr th:only-of-type {\n",
              "        vertical-align: middle;\n",
              "    }\n",
              "\n",
              "    .dataframe tbody tr th {\n",
              "        vertical-align: top;\n",
              "    }\n",
              "\n",
              "    .dataframe thead th {\n",
              "        text-align: right;\n",
              "    }\n",
              "</style>\n",
              "<table border=\"1\" class=\"dataframe\">\n",
              "  <thead>\n",
              "    <tr style=\"text-align: right;\">\n",
              "      <th></th>\n",
              "      <th>Video_id</th>\n",
              "      <th>category_id</th>\n",
              "      <th>channel_title</th>\n",
              "      <th>subscriber</th>\n",
              "      <th>title</th>\n",
              "      <th>tags</th>\n",
              "      <th>description</th>\n",
              "      <th>Trend_day_count</th>\n",
              "      <th>Tag_count</th>\n",
              "      <th>Trend_tag_count</th>\n",
              "      <th>comment_count</th>\n",
              "      <th>like dislike disabled</th>\n",
              "      <th>likes</th>\n",
              "      <th>dislike</th>\n",
              "      <th>tag appered in title</th>\n",
              "      <th>views</th>\n",
              "      <th>Comment_disabled_FALSE</th>\n",
              "      <th>Comment_disabled_TRUE</th>\n",
              "      <th>likedislike_disabled_FALSE</th>\n",
              "      <th>likedislike_disabled_TRUE</th>\n",
              "    </tr>\n",
              "  </thead>\n",
              "  <tbody>\n",
              "    <tr>\n",
              "      <th>0</th>\n",
              "      <td>HDR9SQc79</td>\n",
              "      <td>22.0</td>\n",
              "      <td>CaseyNeistat</td>\n",
              "      <td>9086142.0</td>\n",
              "      <td>WE WANT TO TALK ABOUT OUR MARRIAGE</td>\n",
              "      <td>SHANtell martin</td>\n",
              "      <td>SHANTELL'S CHANNEL - https://www.youtube.com/s...</td>\n",
              "      <td>6.0</td>\n",
              "      <td>21</td>\n",
              "      <td>6</td>\n",
              "      <td></td>\n",
              "      <td>FALSE</td>\n",
              "      <td>13342</td>\n",
              "      <td>6089</td>\n",
              "      <td>False</td>\n",
              "      <td>1978978</td>\n",
              "      <td>1</td>\n",
              "      <td>0</td>\n",
              "      <td>1</td>\n",
              "      <td>0</td>\n",
              "    </tr>\n",
              "    <tr>\n",
              "      <th>1</th>\n",
              "      <td>KNH52UF?48</td>\n",
              "      <td>24.0</td>\n",
              "      <td>LastWeekTonight</td>\n",
              "      <td>5937292.0</td>\n",
              "      <td>The Trump Presidency: Last Week Tonight with J...</td>\n",
              "      <td>last week tonight trump presidency|last week t...</td>\n",
              "      <td>One year after the presidential election, John...</td>\n",
              "      <td>1.0</td>\n",
              "      <td>23</td>\n",
              "      <td>1</td>\n",
              "      <td>116266</td>\n",
              "      <td>FALSE</td>\n",
              "      <td>5761</td>\n",
              "      <td>3044</td>\n",
              "      <td>False</td>\n",
              "      <td>1487870</td>\n",
              "      <td>0</td>\n",
              "      <td>1</td>\n",
              "      <td>1</td>\n",
              "      <td>0</td>\n",
              "    </tr>\n",
              "    <tr>\n",
              "      <th>2</th>\n",
              "      <td>QTW28IRG36</td>\n",
              "      <td>23.0</td>\n",
              "      <td>Rudy Mancuso</td>\n",
              "      <td>4191209.0</td>\n",
              "      <td>Racist Superman | Rudy Mancuso, King Bach &amp; Le...</td>\n",
              "      <td>racist superman|rudy|mancuso|king|bach|racist|...</td>\n",
              "      <td>WATCH MY PREVIOUS VIDEO ▶ \\n\\nSUBSCRIBE ► http...</td>\n",
              "      <td>10.0</td>\n",
              "      <td>22</td>\n",
              "      <td>3</td>\n",
              "      <td>257850</td>\n",
              "      <td>TRUE</td>\n",
              "      <td>0</td>\n",
              "      <td>0</td>\n",
              "      <td>True</td>\n",
              "      <td>1502102</td>\n",
              "      <td>0</td>\n",
              "      <td>1</td>\n",
              "      <td>0</td>\n",
              "      <td>1</td>\n",
              "    </tr>\n",
              "    <tr>\n",
              "      <th>3</th>\n",
              "      <td>MGL76WI]26</td>\n",
              "      <td>24.0</td>\n",
              "      <td>Good Mythical Morning</td>\n",
              "      <td>13186408.0</td>\n",
              "      <td>Nickelback Lyrics: Real or Fake?</td>\n",
              "      <td>rhett and link|gmm|good mythical morning|rhett...</td>\n",
              "      <td>Today we find out if Link is a Nickelback amat...</td>\n",
              "      <td>12.0</td>\n",
              "      <td>17</td>\n",
              "      <td>5</td>\n",
              "      <td>263939</td>\n",
              "      <td>TRUE</td>\n",
              "      <td>0</td>\n",
              "      <td>0</td>\n",
              "      <td>True</td>\n",
              "      <td>3519302</td>\n",
              "      <td>0</td>\n",
              "      <td>1</td>\n",
              "      <td>0</td>\n",
              "      <td>1</td>\n",
              "    </tr>\n",
              "    <tr>\n",
              "      <th>4</th>\n",
              "      <td>TWP93KXT70</td>\n",
              "      <td>24.0</td>\n",
              "      <td>nigahiga</td>\n",
              "      <td>20563106.0</td>\n",
              "      <td>I Dare You: GOING BALD!?</td>\n",
              "      <td>ryan|higa|higatv|nigahiga|i dare you|idy|rhpc|...</td>\n",
              "      <td>I know it's been a while since we did this sho...</td>\n",
              "      <td>11.0</td>\n",
              "      <td>15</td>\n",
              "      <td>7</td>\n",
              "      <td>268085</td>\n",
              "      <td>TRUE</td>\n",
              "      <td>0</td>\n",
              "      <td>0</td>\n",
              "      <td>True</td>\n",
              "      <td>4835374</td>\n",
              "      <td>0</td>\n",
              "      <td>1</td>\n",
              "      <td>0</td>\n",
              "      <td>1</td>\n",
              "    </tr>\n",
              "  </tbody>\n",
              "</table>\n",
              "</div>"
            ],
            "text/plain": [
              "     Video_id  ...  likedislike_disabled_TRUE\n",
              "0   HDR9SQc79  ...                          0\n",
              "1  KNH52UF?48  ...                          0\n",
              "2  QTW28IRG36  ...                          1\n",
              "3  MGL76WI]26  ...                          1\n",
              "4  TWP93KXT70  ...                          1\n",
              "\n",
              "[5 rows x 20 columns]"
            ]
          },
          "metadata": {},
          "execution_count": 69
        }
      ]
    },
    {
      "cell_type": "code",
      "metadata": {
        "colab": {
          "base_uri": "https://localhost:8080/",
          "height": 564
        },
        "id": "Ud9I5xU0POsX",
        "outputId": "7990b2c4-0ecf-48cf-99f4-ae0cff6d5220"
      },
      "source": [
        "#Dropping the like dislike disabled column\n",
        "df_youtube.drop('like dislike disabled', inplace=True, axis=1)\n",
        "df_youtube.head()"
      ],
      "execution_count": 70,
      "outputs": [
        {
          "output_type": "execute_result",
          "data": {
            "text/html": [
              "<div>\n",
              "<style scoped>\n",
              "    .dataframe tbody tr th:only-of-type {\n",
              "        vertical-align: middle;\n",
              "    }\n",
              "\n",
              "    .dataframe tbody tr th {\n",
              "        vertical-align: top;\n",
              "    }\n",
              "\n",
              "    .dataframe thead th {\n",
              "        text-align: right;\n",
              "    }\n",
              "</style>\n",
              "<table border=\"1\" class=\"dataframe\">\n",
              "  <thead>\n",
              "    <tr style=\"text-align: right;\">\n",
              "      <th></th>\n",
              "      <th>Video_id</th>\n",
              "      <th>category_id</th>\n",
              "      <th>channel_title</th>\n",
              "      <th>subscriber</th>\n",
              "      <th>title</th>\n",
              "      <th>tags</th>\n",
              "      <th>description</th>\n",
              "      <th>Trend_day_count</th>\n",
              "      <th>Tag_count</th>\n",
              "      <th>Trend_tag_count</th>\n",
              "      <th>comment_count</th>\n",
              "      <th>likes</th>\n",
              "      <th>dislike</th>\n",
              "      <th>tag appered in title</th>\n",
              "      <th>views</th>\n",
              "      <th>Comment_disabled_FALSE</th>\n",
              "      <th>Comment_disabled_TRUE</th>\n",
              "      <th>likedislike_disabled_FALSE</th>\n",
              "      <th>likedislike_disabled_TRUE</th>\n",
              "    </tr>\n",
              "  </thead>\n",
              "  <tbody>\n",
              "    <tr>\n",
              "      <th>0</th>\n",
              "      <td>HDR9SQc79</td>\n",
              "      <td>22.0</td>\n",
              "      <td>CaseyNeistat</td>\n",
              "      <td>9086142.0</td>\n",
              "      <td>WE WANT TO TALK ABOUT OUR MARRIAGE</td>\n",
              "      <td>SHANtell martin</td>\n",
              "      <td>SHANTELL'S CHANNEL - https://www.youtube.com/s...</td>\n",
              "      <td>6.0</td>\n",
              "      <td>21</td>\n",
              "      <td>6</td>\n",
              "      <td></td>\n",
              "      <td>13342</td>\n",
              "      <td>6089</td>\n",
              "      <td>False</td>\n",
              "      <td>1978978</td>\n",
              "      <td>1</td>\n",
              "      <td>0</td>\n",
              "      <td>1</td>\n",
              "      <td>0</td>\n",
              "    </tr>\n",
              "    <tr>\n",
              "      <th>1</th>\n",
              "      <td>KNH52UF?48</td>\n",
              "      <td>24.0</td>\n",
              "      <td>LastWeekTonight</td>\n",
              "      <td>5937292.0</td>\n",
              "      <td>The Trump Presidency: Last Week Tonight with J...</td>\n",
              "      <td>last week tonight trump presidency|last week t...</td>\n",
              "      <td>One year after the presidential election, John...</td>\n",
              "      <td>1.0</td>\n",
              "      <td>23</td>\n",
              "      <td>1</td>\n",
              "      <td>116266</td>\n",
              "      <td>5761</td>\n",
              "      <td>3044</td>\n",
              "      <td>False</td>\n",
              "      <td>1487870</td>\n",
              "      <td>0</td>\n",
              "      <td>1</td>\n",
              "      <td>1</td>\n",
              "      <td>0</td>\n",
              "    </tr>\n",
              "    <tr>\n",
              "      <th>2</th>\n",
              "      <td>QTW28IRG36</td>\n",
              "      <td>23.0</td>\n",
              "      <td>Rudy Mancuso</td>\n",
              "      <td>4191209.0</td>\n",
              "      <td>Racist Superman | Rudy Mancuso, King Bach &amp; Le...</td>\n",
              "      <td>racist superman|rudy|mancuso|king|bach|racist|...</td>\n",
              "      <td>WATCH MY PREVIOUS VIDEO ▶ \\n\\nSUBSCRIBE ► http...</td>\n",
              "      <td>10.0</td>\n",
              "      <td>22</td>\n",
              "      <td>3</td>\n",
              "      <td>257850</td>\n",
              "      <td>0</td>\n",
              "      <td>0</td>\n",
              "      <td>True</td>\n",
              "      <td>1502102</td>\n",
              "      <td>0</td>\n",
              "      <td>1</td>\n",
              "      <td>0</td>\n",
              "      <td>1</td>\n",
              "    </tr>\n",
              "    <tr>\n",
              "      <th>3</th>\n",
              "      <td>MGL76WI]26</td>\n",
              "      <td>24.0</td>\n",
              "      <td>Good Mythical Morning</td>\n",
              "      <td>13186408.0</td>\n",
              "      <td>Nickelback Lyrics: Real or Fake?</td>\n",
              "      <td>rhett and link|gmm|good mythical morning|rhett...</td>\n",
              "      <td>Today we find out if Link is a Nickelback amat...</td>\n",
              "      <td>12.0</td>\n",
              "      <td>17</td>\n",
              "      <td>5</td>\n",
              "      <td>263939</td>\n",
              "      <td>0</td>\n",
              "      <td>0</td>\n",
              "      <td>True</td>\n",
              "      <td>3519302</td>\n",
              "      <td>0</td>\n",
              "      <td>1</td>\n",
              "      <td>0</td>\n",
              "      <td>1</td>\n",
              "    </tr>\n",
              "    <tr>\n",
              "      <th>4</th>\n",
              "      <td>TWP93KXT70</td>\n",
              "      <td>24.0</td>\n",
              "      <td>nigahiga</td>\n",
              "      <td>20563106.0</td>\n",
              "      <td>I Dare You: GOING BALD!?</td>\n",
              "      <td>ryan|higa|higatv|nigahiga|i dare you|idy|rhpc|...</td>\n",
              "      <td>I know it's been a while since we did this sho...</td>\n",
              "      <td>11.0</td>\n",
              "      <td>15</td>\n",
              "      <td>7</td>\n",
              "      <td>268085</td>\n",
              "      <td>0</td>\n",
              "      <td>0</td>\n",
              "      <td>True</td>\n",
              "      <td>4835374</td>\n",
              "      <td>0</td>\n",
              "      <td>1</td>\n",
              "      <td>0</td>\n",
              "      <td>1</td>\n",
              "    </tr>\n",
              "  </tbody>\n",
              "</table>\n",
              "</div>"
            ],
            "text/plain": [
              "     Video_id  ...  likedislike_disabled_TRUE\n",
              "0   HDR9SQc79  ...                          0\n",
              "1  KNH52UF?48  ...                          0\n",
              "2  QTW28IRG36  ...                          1\n",
              "3  MGL76WI]26  ...                          1\n",
              "4  TWP93KXT70  ...                          1\n",
              "\n",
              "[5 rows x 19 columns]"
            ]
          },
          "metadata": {},
          "execution_count": 70
        }
      ]
    },
    {
      "cell_type": "markdown",
      "metadata": {
        "id": "ohNU-3AcPWv7"
      },
      "source": [
        "***Finding the correaltion among the variables***"
      ]
    },
    {
      "cell_type": "code",
      "metadata": {
        "colab": {
          "base_uri": "https://localhost:8080/",
          "height": 286
        },
        "id": "5IfxZcg2PRkw",
        "outputId": "30e61021-0a90-4197-fb0f-fd74153f54f6"
      },
      "source": [
        "df_youtube.corr()"
      ],
      "execution_count": 71,
      "outputs": [
        {
          "output_type": "execute_result",
          "data": {
            "text/html": [
              "<div>\n",
              "<style scoped>\n",
              "    .dataframe tbody tr th:only-of-type {\n",
              "        vertical-align: middle;\n",
              "    }\n",
              "\n",
              "    .dataframe tbody tr th {\n",
              "        vertical-align: top;\n",
              "    }\n",
              "\n",
              "    .dataframe thead th {\n",
              "        text-align: right;\n",
              "    }\n",
              "</style>\n",
              "<table border=\"1\" class=\"dataframe\">\n",
              "  <thead>\n",
              "    <tr style=\"text-align: right;\">\n",
              "      <th></th>\n",
              "      <th>category_id</th>\n",
              "      <th>subscriber</th>\n",
              "      <th>Trend_day_count</th>\n",
              "      <th>Comment_disabled_FALSE</th>\n",
              "      <th>Comment_disabled_TRUE</th>\n",
              "      <th>likedislike_disabled_FALSE</th>\n",
              "      <th>likedislike_disabled_TRUE</th>\n",
              "    </tr>\n",
              "  </thead>\n",
              "  <tbody>\n",
              "    <tr>\n",
              "      <th>category_id</th>\n",
              "      <td>1.000000</td>\n",
              "      <td>0.006697</td>\n",
              "      <td>0.011226</td>\n",
              "      <td>0.026281</td>\n",
              "      <td>-0.026281</td>\n",
              "      <td>0.025324</td>\n",
              "      <td>-0.025324</td>\n",
              "    </tr>\n",
              "    <tr>\n",
              "      <th>subscriber</th>\n",
              "      <td>0.006697</td>\n",
              "      <td>1.000000</td>\n",
              "      <td>-0.001422</td>\n",
              "      <td>-0.018812</td>\n",
              "      <td>0.018812</td>\n",
              "      <td>-0.025657</td>\n",
              "      <td>0.025657</td>\n",
              "    </tr>\n",
              "    <tr>\n",
              "      <th>Trend_day_count</th>\n",
              "      <td>0.011226</td>\n",
              "      <td>-0.001422</td>\n",
              "      <td>1.000000</td>\n",
              "      <td>-0.012538</td>\n",
              "      <td>0.012538</td>\n",
              "      <td>0.009940</td>\n",
              "      <td>-0.009940</td>\n",
              "    </tr>\n",
              "    <tr>\n",
              "      <th>Comment_disabled_FALSE</th>\n",
              "      <td>0.026281</td>\n",
              "      <td>-0.018812</td>\n",
              "      <td>-0.012538</td>\n",
              "      <td>1.000000</td>\n",
              "      <td>-1.000000</td>\n",
              "      <td>-0.006268</td>\n",
              "      <td>0.006268</td>\n",
              "    </tr>\n",
              "    <tr>\n",
              "      <th>Comment_disabled_TRUE</th>\n",
              "      <td>-0.026281</td>\n",
              "      <td>0.018812</td>\n",
              "      <td>0.012538</td>\n",
              "      <td>-1.000000</td>\n",
              "      <td>1.000000</td>\n",
              "      <td>0.006268</td>\n",
              "      <td>-0.006268</td>\n",
              "    </tr>\n",
              "    <tr>\n",
              "      <th>likedislike_disabled_FALSE</th>\n",
              "      <td>0.025324</td>\n",
              "      <td>-0.025657</td>\n",
              "      <td>0.009940</td>\n",
              "      <td>-0.006268</td>\n",
              "      <td>0.006268</td>\n",
              "      <td>1.000000</td>\n",
              "      <td>-1.000000</td>\n",
              "    </tr>\n",
              "    <tr>\n",
              "      <th>likedislike_disabled_TRUE</th>\n",
              "      <td>-0.025324</td>\n",
              "      <td>0.025657</td>\n",
              "      <td>-0.009940</td>\n",
              "      <td>0.006268</td>\n",
              "      <td>-0.006268</td>\n",
              "      <td>-1.000000</td>\n",
              "      <td>1.000000</td>\n",
              "    </tr>\n",
              "  </tbody>\n",
              "</table>\n",
              "</div>"
            ],
            "text/plain": [
              "                            category_id  ...  likedislike_disabled_TRUE\n",
              "category_id                    1.000000  ...                  -0.025324\n",
              "subscriber                     0.006697  ...                   0.025657\n",
              "Trend_day_count                0.011226  ...                  -0.009940\n",
              "Comment_disabled_FALSE         0.026281  ...                   0.006268\n",
              "Comment_disabled_TRUE         -0.026281  ...                  -0.006268\n",
              "likedislike_disabled_FALSE     0.025324  ...                  -1.000000\n",
              "likedislike_disabled_TRUE     -0.025324  ...                   1.000000\n",
              "\n",
              "[7 rows x 7 columns]"
            ]
          },
          "metadata": {},
          "execution_count": 71
        }
      ]
    },
    {
      "cell_type": "code",
      "metadata": {
        "colab": {
          "base_uri": "https://localhost:8080/"
        },
        "id": "pJfTanKTPZaC",
        "outputId": "f9515189-9c8f-4c97-c87e-d7a6dd36b8a5"
      },
      "source": [
        "df_youtube.dtypes   # Again most of the variables are in object datatype"
      ],
      "execution_count": 72,
      "outputs": [
        {
          "output_type": "execute_result",
          "data": {
            "text/plain": [
              "Video_id                       object\n",
              "category_id                   float64\n",
              "channel_title                  object\n",
              "subscriber                    float64\n",
              "title                          object\n",
              "tags                           object\n",
              "description                    object\n",
              "Trend_day_count               float64\n",
              "Tag_count                      object\n",
              "Trend_tag_count                object\n",
              "comment_count                  object\n",
              "likes                          object\n",
              "dislike                        object\n",
              "tag appered in title           object\n",
              "views                          object\n",
              "Comment_disabled_FALSE          uint8\n",
              "Comment_disabled_TRUE           uint8\n",
              "likedislike_disabled_FALSE      uint8\n",
              "likedislike_disabled_TRUE       uint8\n",
              "dtype: object"
            ]
          },
          "metadata": {},
          "execution_count": 72
        }
      ]
    },
    {
      "cell_type": "code",
      "metadata": {
        "colab": {
          "base_uri": "https://localhost:8080/"
        },
        "id": "0jP9JnvSPby2",
        "outputId": "54d54238-dc5d-4239-d732-640b70db20ec"
      },
      "source": [
        "#converting the variables to int from object \n",
        "df_youtube['likes'].astype(str).astype(int)\n",
        "# astype() is used for temporary datatype conversion "
      ],
      "execution_count": 73,
      "outputs": [
        {
          "output_type": "execute_result",
          "data": {
            "text/plain": [
              "0       13342\n",
              "1        5761\n",
              "2           0\n",
              "3           0\n",
              "4           0\n",
              "        ...  \n",
              "3193     9734\n",
              "3194    16006\n",
              "3195        0\n",
              "3196     6859\n",
              "3197     8339\n",
              "Name: likes, Length: 3194, dtype: int64"
            ]
          },
          "metadata": {},
          "execution_count": 73
        }
      ]
    },
    {
      "cell_type": "code",
      "metadata": {
        "colab": {
          "base_uri": "https://localhost:8080/"
        },
        "id": "WdBjSetAPeyV",
        "outputId": "79470178-57ef-48a4-f2fe-50222e234359"
      },
      "source": [
        "df_youtube.dtypes"
      ],
      "execution_count": 74,
      "outputs": [
        {
          "output_type": "execute_result",
          "data": {
            "text/plain": [
              "Video_id                       object\n",
              "category_id                   float64\n",
              "channel_title                  object\n",
              "subscriber                    float64\n",
              "title                          object\n",
              "tags                           object\n",
              "description                    object\n",
              "Trend_day_count               float64\n",
              "Tag_count                      object\n",
              "Trend_tag_count                object\n",
              "comment_count                  object\n",
              "likes                          object\n",
              "dislike                        object\n",
              "tag appered in title           object\n",
              "views                          object\n",
              "Comment_disabled_FALSE          uint8\n",
              "Comment_disabled_TRUE           uint8\n",
              "likedislike_disabled_FALSE      uint8\n",
              "likedislike_disabled_TRUE       uint8\n",
              "dtype: object"
            ]
          },
          "metadata": {},
          "execution_count": 74
        }
      ]
    },
    {
      "cell_type": "markdown",
      "metadata": {
        "id": "D8vBuMmyUREO"
      },
      "source": [
        "Converting object datatype to int/float datatype"
      ]
    },
    {
      "cell_type": "code",
      "metadata": {
        "colab": {
          "base_uri": "https://localhost:8080/"
        },
        "id": "ljcV2uvDPgmS",
        "outputId": "8c6f7a42-4cde-4ea8-8109-9be9fc7ff6c1"
      },
      "source": [
        "df_youtube['likes']=pd.to_numeric(df_youtube['likes'])\n",
        "df_youtube.dtypes"
      ],
      "execution_count": 75,
      "outputs": [
        {
          "output_type": "execute_result",
          "data": {
            "text/plain": [
              "Video_id                       object\n",
              "category_id                   float64\n",
              "channel_title                  object\n",
              "subscriber                    float64\n",
              "title                          object\n",
              "tags                           object\n",
              "description                    object\n",
              "Trend_day_count               float64\n",
              "Tag_count                      object\n",
              "Trend_tag_count                object\n",
              "comment_count                  object\n",
              "likes                           int64\n",
              "dislike                        object\n",
              "tag appered in title           object\n",
              "views                          object\n",
              "Comment_disabled_FALSE          uint8\n",
              "Comment_disabled_TRUE           uint8\n",
              "likedislike_disabled_FALSE      uint8\n",
              "likedislike_disabled_TRUE       uint8\n",
              "dtype: object"
            ]
          },
          "metadata": {},
          "execution_count": 75
        }
      ]
    },
    {
      "cell_type": "code",
      "metadata": {
        "colab": {
          "base_uri": "https://localhost:8080/"
        },
        "id": "mpeAvQRhPjMN",
        "outputId": "d3221408-c04c-488d-81e6-4017b2947951"
      },
      "source": [
        "df_youtube['dislike']=pd.to_numeric(df_youtube['dislike'])\n",
        "df_youtube.dtypes"
      ],
      "execution_count": 76,
      "outputs": [
        {
          "output_type": "execute_result",
          "data": {
            "text/plain": [
              "Video_id                       object\n",
              "category_id                   float64\n",
              "channel_title                  object\n",
              "subscriber                    float64\n",
              "title                          object\n",
              "tags                           object\n",
              "description                    object\n",
              "Trend_day_count               float64\n",
              "Tag_count                      object\n",
              "Trend_tag_count                object\n",
              "comment_count                  object\n",
              "likes                           int64\n",
              "dislike                         int64\n",
              "tag appered in title           object\n",
              "views                          object\n",
              "Comment_disabled_FALSE          uint8\n",
              "Comment_disabled_TRUE           uint8\n",
              "likedislike_disabled_FALSE      uint8\n",
              "likedislike_disabled_TRUE       uint8\n",
              "dtype: object"
            ]
          },
          "metadata": {},
          "execution_count": 76
        }
      ]
    },
    {
      "cell_type": "code",
      "metadata": {
        "colab": {
          "base_uri": "https://localhost:8080/",
          "height": 348
        },
        "id": "15oTiHWYPoLr",
        "outputId": "e61c523e-1b6e-45b9-8cfa-455707815340"
      },
      "source": [
        "df_youtube.corr() # As likes and dislikes have been converted to int datatype we can find their correlation  with other variables"
      ],
      "execution_count": 77,
      "outputs": [
        {
          "output_type": "execute_result",
          "data": {
            "text/html": [
              "<div>\n",
              "<style scoped>\n",
              "    .dataframe tbody tr th:only-of-type {\n",
              "        vertical-align: middle;\n",
              "    }\n",
              "\n",
              "    .dataframe tbody tr th {\n",
              "        vertical-align: top;\n",
              "    }\n",
              "\n",
              "    .dataframe thead th {\n",
              "        text-align: right;\n",
              "    }\n",
              "</style>\n",
              "<table border=\"1\" class=\"dataframe\">\n",
              "  <thead>\n",
              "    <tr style=\"text-align: right;\">\n",
              "      <th></th>\n",
              "      <th>category_id</th>\n",
              "      <th>subscriber</th>\n",
              "      <th>Trend_day_count</th>\n",
              "      <th>likes</th>\n",
              "      <th>dislike</th>\n",
              "      <th>Comment_disabled_FALSE</th>\n",
              "      <th>Comment_disabled_TRUE</th>\n",
              "      <th>likedislike_disabled_FALSE</th>\n",
              "      <th>likedislike_disabled_TRUE</th>\n",
              "    </tr>\n",
              "  </thead>\n",
              "  <tbody>\n",
              "    <tr>\n",
              "      <th>category_id</th>\n",
              "      <td>1.000000</td>\n",
              "      <td>0.006697</td>\n",
              "      <td>0.011226</td>\n",
              "      <td>0.011532</td>\n",
              "      <td>0.024785</td>\n",
              "      <td>0.026281</td>\n",
              "      <td>-0.026281</td>\n",
              "      <td>0.025324</td>\n",
              "      <td>-0.025324</td>\n",
              "    </tr>\n",
              "    <tr>\n",
              "      <th>subscriber</th>\n",
              "      <td>0.006697</td>\n",
              "      <td>1.000000</td>\n",
              "      <td>-0.001422</td>\n",
              "      <td>-0.008799</td>\n",
              "      <td>-0.019772</td>\n",
              "      <td>-0.018812</td>\n",
              "      <td>0.018812</td>\n",
              "      <td>-0.025657</td>\n",
              "      <td>0.025657</td>\n",
              "    </tr>\n",
              "    <tr>\n",
              "      <th>Trend_day_count</th>\n",
              "      <td>0.011226</td>\n",
              "      <td>-0.001422</td>\n",
              "      <td>1.000000</td>\n",
              "      <td>0.002023</td>\n",
              "      <td>0.006942</td>\n",
              "      <td>-0.012538</td>\n",
              "      <td>0.012538</td>\n",
              "      <td>0.009940</td>\n",
              "      <td>-0.009940</td>\n",
              "    </tr>\n",
              "    <tr>\n",
              "      <th>likes</th>\n",
              "      <td>0.011532</td>\n",
              "      <td>-0.008799</td>\n",
              "      <td>0.002023</td>\n",
              "      <td>1.000000</td>\n",
              "      <td>0.297060</td>\n",
              "      <td>-0.018220</td>\n",
              "      <td>0.018220</td>\n",
              "      <td>0.260863</td>\n",
              "      <td>-0.260863</td>\n",
              "    </tr>\n",
              "    <tr>\n",
              "      <th>dislike</th>\n",
              "      <td>0.024785</td>\n",
              "      <td>-0.019772</td>\n",
              "      <td>0.006942</td>\n",
              "      <td>0.297060</td>\n",
              "      <td>1.000000</td>\n",
              "      <td>-0.019105</td>\n",
              "      <td>0.019105</td>\n",
              "      <td>0.712441</td>\n",
              "      <td>-0.712441</td>\n",
              "    </tr>\n",
              "    <tr>\n",
              "      <th>Comment_disabled_FALSE</th>\n",
              "      <td>0.026281</td>\n",
              "      <td>-0.018812</td>\n",
              "      <td>-0.012538</td>\n",
              "      <td>-0.018220</td>\n",
              "      <td>-0.019105</td>\n",
              "      <td>1.000000</td>\n",
              "      <td>-1.000000</td>\n",
              "      <td>-0.006268</td>\n",
              "      <td>0.006268</td>\n",
              "    </tr>\n",
              "    <tr>\n",
              "      <th>Comment_disabled_TRUE</th>\n",
              "      <td>-0.026281</td>\n",
              "      <td>0.018812</td>\n",
              "      <td>0.012538</td>\n",
              "      <td>0.018220</td>\n",
              "      <td>0.019105</td>\n",
              "      <td>-1.000000</td>\n",
              "      <td>1.000000</td>\n",
              "      <td>0.006268</td>\n",
              "      <td>-0.006268</td>\n",
              "    </tr>\n",
              "    <tr>\n",
              "      <th>likedislike_disabled_FALSE</th>\n",
              "      <td>0.025324</td>\n",
              "      <td>-0.025657</td>\n",
              "      <td>0.009940</td>\n",
              "      <td>0.260863</td>\n",
              "      <td>0.712441</td>\n",
              "      <td>-0.006268</td>\n",
              "      <td>0.006268</td>\n",
              "      <td>1.000000</td>\n",
              "      <td>-1.000000</td>\n",
              "    </tr>\n",
              "    <tr>\n",
              "      <th>likedislike_disabled_TRUE</th>\n",
              "      <td>-0.025324</td>\n",
              "      <td>0.025657</td>\n",
              "      <td>-0.009940</td>\n",
              "      <td>-0.260863</td>\n",
              "      <td>-0.712441</td>\n",
              "      <td>0.006268</td>\n",
              "      <td>-0.006268</td>\n",
              "      <td>-1.000000</td>\n",
              "      <td>1.000000</td>\n",
              "    </tr>\n",
              "  </tbody>\n",
              "</table>\n",
              "</div>"
            ],
            "text/plain": [
              "                            category_id  ...  likedislike_disabled_TRUE\n",
              "category_id                    1.000000  ...                  -0.025324\n",
              "subscriber                     0.006697  ...                   0.025657\n",
              "Trend_day_count                0.011226  ...                  -0.009940\n",
              "likes                          0.011532  ...                  -0.260863\n",
              "dislike                        0.024785  ...                  -0.712441\n",
              "Comment_disabled_FALSE         0.026281  ...                   0.006268\n",
              "Comment_disabled_TRUE         -0.026281  ...                  -0.006268\n",
              "likedislike_disabled_FALSE     0.025324  ...                  -1.000000\n",
              "likedislike_disabled_TRUE     -0.025324  ...                   1.000000\n",
              "\n",
              "[9 rows x 9 columns]"
            ]
          },
          "metadata": {},
          "execution_count": 77
        }
      ]
    },
    {
      "cell_type": "markdown",
      "metadata": {
        "id": "AhpS4ojpWTen"
      },
      "source": [
        "From the correlation table we can find that there is not really any correlation between variables."
      ]
    },
    {
      "cell_type": "code",
      "metadata": {
        "colab": {
          "base_uri": "https://localhost:8080/"
        },
        "id": "Lto9ItqbPpK6",
        "outputId": "9f0214de-441a-46da-8d3f-9bc2ab14d727"
      },
      "source": [
        "df_youtube['views']=pd.to_numeric(df_youtube['views'],errors='coerce').convert_dtypes() \n",
        "df_youtube.dtypes #similarly converting views from object to int"
      ],
      "execution_count": 78,
      "outputs": [
        {
          "output_type": "execute_result",
          "data": {
            "text/plain": [
              "Video_id                       object\n",
              "category_id                   float64\n",
              "channel_title                  object\n",
              "subscriber                    float64\n",
              "title                          object\n",
              "tags                           object\n",
              "description                    object\n",
              "Trend_day_count               float64\n",
              "Tag_count                      object\n",
              "Trend_tag_count                object\n",
              "comment_count                  object\n",
              "likes                           int64\n",
              "dislike                         int64\n",
              "tag appered in title           object\n",
              "views                           Int64\n",
              "Comment_disabled_FALSE          uint8\n",
              "Comment_disabled_TRUE           uint8\n",
              "likedislike_disabled_FALSE      uint8\n",
              "likedislike_disabled_TRUE       uint8\n",
              "dtype: object"
            ]
          },
          "metadata": {},
          "execution_count": 78
        }
      ]
    },
    {
      "cell_type": "code",
      "metadata": {
        "id": "vcCdBFf9PsMG"
      },
      "source": [
        "# As Comment_disabled_FALSE and Comment_disabled_TRUE\tare the dummies derived from comment_disabled.Hence any of the one can be dropped\n",
        "df_youtube.drop('likedislike_disabled_TRUE', inplace=True, axis=1)\n",
        "#similarly Comment_disabled_FALSE also have been dropped"
      ],
      "execution_count": 79,
      "outputs": []
    },
    {
      "cell_type": "code",
      "metadata": {
        "id": "em3qKS2LQPqr"
      },
      "source": [
        "df_youtube.drop('Comment_disabled_FALSE', inplace=True, axis=1)"
      ],
      "execution_count": 80,
      "outputs": []
    },
    {
      "cell_type": "code",
      "metadata": {
        "colab": {
          "base_uri": "https://localhost:8080/"
        },
        "id": "_qedURkIPwOr",
        "outputId": "ca3c71a0-ca8a-4b85-8b3c-4571183ed5d8"
      },
      "source": [
        "df_youtube.dtypes\n",
        "# changes has been reflected"
      ],
      "execution_count": 81,
      "outputs": [
        {
          "output_type": "execute_result",
          "data": {
            "text/plain": [
              "Video_id                       object\n",
              "category_id                   float64\n",
              "channel_title                  object\n",
              "subscriber                    float64\n",
              "title                          object\n",
              "tags                           object\n",
              "description                    object\n",
              "Trend_day_count               float64\n",
              "Tag_count                      object\n",
              "Trend_tag_count                object\n",
              "comment_count                  object\n",
              "likes                           int64\n",
              "dislike                         int64\n",
              "tag appered in title           object\n",
              "views                           Int64\n",
              "Comment_disabled_TRUE           uint8\n",
              "likedislike_disabled_FALSE      uint8\n",
              "dtype: object"
            ]
          },
          "metadata": {},
          "execution_count": 81
        }
      ]
    },
    {
      "cell_type": "markdown",
      "metadata": {
        "id": "OJ10YGmiUbeB"
      },
      "source": [
        "**From the above we can find that likes,dislike and views has been changed to int datatype**"
      ]
    },
    {
      "cell_type": "code",
      "metadata": {
        "colab": {
          "base_uri": "https://localhost:8080/",
          "height": 285
        },
        "id": "XCcwRFgVPv2c",
        "outputId": "99523b0e-c42d-4a58-a212-0d8824518261"
      },
      "source": [
        "sns.set_style(\"darkgrid\")\n",
        "sns.set_context(\"notebook\")\n",
        "\n",
        "sns.countplot(x=\"tag appered in title\", data=df_youtube,palette=\"Purples\");\n",
        "\n",
        "# From this we can understand that most of the tags have been appeared on the videos"
      ],
      "execution_count": 82,
      "outputs": [
        {
          "output_type": "display_data",
          "data": {
            "image/png": "[encoded data removed]",
            "text/plain": [
              "<Figure size 432x288 with 1 Axes>"
            ]
          },
          "metadata": {}
        }
      ]
    },
    {
      "cell_type": "code",
      "metadata": {
        "colab": {
          "base_uri": "https://localhost:8080/",
          "height": 285
        },
        "id": "mMc2zQqvP2MS",
        "outputId": "d5b9f36e-64c6-4150-83dc-96a913a7aa12"
      },
      "source": [
        "sns.set_style(\"darkgrid\")\n",
        "sns.set_context(\"notebook\")\n",
        "sns.countplot(x=\"Comment_disabled_TRUE\", data=df_youtube,palette=\"Blues\");\n",
        "# The Below plot shows that most of the videos on the youtube have their comments disabled."
      ],
      "execution_count": 83,
      "outputs": [
        {
          "output_type": "display_data",
          "data": {
            "image/png": "[encoded data removed]",
            "text/plain": [
              "<Figure size 432x288 with 1 Axes>"
            ]
          },
          "metadata": {}
        }
      ]
    },
    {
      "cell_type": "code",
      "metadata": {
        "colab": {
          "base_uri": "https://localhost:8080/",
          "height": 285
        },
        "id": "ZQZlmdMcP7M1",
        "outputId": "a284bd2f-e630-4edf-a14b-b6bbb65194ec"
      },
      "source": [
        "sns.set_style(\"darkgrid\")\n",
        "sns.set_context(\"notebook\")\n",
        "sns.countplot(x=\"likedislike_disabled_FALSE\", data=df_youtube,palette=\"coolwarm\");\n",
        "# Similarly the Below boxplot shows that most of the videos on the youtube have not disabled likes and dislikes button"
      ],
      "execution_count": 84,
      "outputs": [
        {
          "output_type": "display_data",
          "data": {
            "image/png": "[encoded data removed]",
            "text/plain": [
              "<Figure size 432x288 with 1 Axes>"
            ]
          },
          "metadata": {}
        }
      ]
    },
    {
      "cell_type": "code",
      "metadata": {
        "colab": {
          "base_uri": "https://localhost:8080/",
          "height": 399
        },
        "id": "m31zUrsiP93q",
        "outputId": "d69cb4e7-e529-4d73-bd6e-d131e6b303f9"
      },
      "source": [
        "#Plotting the correaltion between Subscriber and likes of the channel \n",
        "sns.set_context(\"notebook\")\n",
        "cor_df=df_youtube.corr()\n",
        "print(cor_df.loc[\"subscriber\", \"likes\"])\n",
        "sns.lmplot(x=\"subscriber\",y=\"likes\",data=df_youtube)\n",
        "\n",
        "# there is no correlation between subscriber and likes"
      ],
      "execution_count": 85,
      "outputs": [
        {
          "output_type": "stream",
          "name": "stdout",
          "text": [
            "-0.008799257152372198\n"
          ]
        },
        {
          "output_type": "execute_result",
          "data": {
            "text/plain": [
              "<seaborn.axisgrid.FacetGrid at 0x7fe27bebb610>"
            ]
          },
          "metadata": {},
          "execution_count": 85
        },
        {
          "output_type": "display_data",
          "data": {
            "image/png": "[encoded data removed]",
            "text/plain": [
              "<Figure size 360x360 with 1 Axes>"
            ]
          },
          "metadata": {}
        }
      ]
    },
    {
      "cell_type": "code",
      "metadata": {
        "colab": {
          "base_uri": "https://localhost:8080/",
          "height": 399
        },
        "id": "MfaNZ9j6QA3m",
        "outputId": "412c5582-edfc-4504-bace-00640831e7af"
      },
      "source": [
        "sns.set_context(\"notebook\")\n",
        "cor_df=df_youtube.corr()\n",
        "print(cor_df.loc[\"dislike\", \"likedislike_disabled_FALSE\"])\n",
        "sns.lmplot(x=\"likedislike_disabled_FALSE\",y=\"dislike\",data=df_youtube)   \n",
        "  # likedislike_disabled_FALSE and dislike has good correlation among them"
      ],
      "execution_count": 86,
      "outputs": [
        {
          "output_type": "stream",
          "name": "stdout",
          "text": [
            "0.7124411013158096\n"
          ]
        },
        {
          "output_type": "execute_result",
          "data": {
            "text/plain": [
              "<seaborn.axisgrid.FacetGrid at 0x7fe28095ea90>"
            ]
          },
          "metadata": {},
          "execution_count": 86
        },
        {
          "output_type": "display_data",
          "data": {
            "image/png": "[encoded data removed]",
            "text/plain": [
              "<Figure size 360x360 with 1 Axes>"
            ]
          },
          "metadata": {}
        }
      ]
    },
    {
      "cell_type": "markdown",
      "metadata": {
        "id": "SY3PN__eQZY5"
      },
      "source": [
        "### Inferences from the dataset"
      ]
    },
    {
      "cell_type": "markdown",
      "metadata": {
        "id": "ABg1Y3XWQfIt"
      },
      "source": [
        "**1.Most Viewed videos on youtube**"
      ]
    },
    {
      "cell_type": "code",
      "metadata": {
        "colab": {
          "base_uri": "https://localhost:8080/",
          "height": 204
        },
        "id": "5MTsk9HEQUr_",
        "outputId": "ef3f83fb-a75a-41e7-993b-ba9c7e3b9caa"
      },
      "source": [
        "most_viewed=df_youtube.sort_values('views',ascending=False)[:5]\n",
        "#Sorts the views column in Descending order,the top 5 fields are taken stored in most_viewed variable\n",
        "most_viewed[['channel_title','title','views']]\n",
        "# As we can see that the video \"Nick Andopolis: Drummer\" has the most views on youtube "
      ],
      "execution_count": 87,
      "outputs": [
        {
          "output_type": "execute_result",
          "data": {
            "text/html": [
              "<div>\n",
              "<style scoped>\n",
              "    .dataframe tbody tr th:only-of-type {\n",
              "        vertical-align: middle;\n",
              "    }\n",
              "\n",
              "    .dataframe tbody tr th {\n",
              "        vertical-align: top;\n",
              "    }\n",
              "\n",
              "    .dataframe thead th {\n",
              "        text-align: right;\n",
              "    }\n",
              "</style>\n",
              "<table border=\"1\" class=\"dataframe\">\n",
              "  <thead>\n",
              "    <tr style=\"text-align: right;\">\n",
              "      <th></th>\n",
              "      <th>channel_title</th>\n",
              "      <th>title</th>\n",
              "      <th>views</th>\n",
              "    </tr>\n",
              "  </thead>\n",
              "  <tbody>\n",
              "    <tr>\n",
              "      <th>29</th>\n",
              "      <td>FaeryInLoveInc</td>\n",
              "      <td>Nick Andopolis: Drummer</td>\n",
              "      <td>989873537</td>\n",
              "    </tr>\n",
              "    <tr>\n",
              "      <th>2379</th>\n",
              "      <td>TheReportOfTheWeek</td>\n",
              "      <td>Checking Out the New McDonald’s Dollar Menu</td>\n",
              "      <td>598795075</td>\n",
              "    </tr>\n",
              "    <tr>\n",
              "      <th>1476</th>\n",
              "      <td>The Late Show with Stephen Colbert</td>\n",
              "      <td>Tom Hanks And Stephen Argue Christmas Tree Tec...</td>\n",
              "      <td>100360000</td>\n",
              "    </tr>\n",
              "    <tr>\n",
              "      <th>1882</th>\n",
              "      <td>Foot Locker</td>\n",
              "      <td>Foot Locker x Jordan - “#BoldLikeKawhi” feat. ...</td>\n",
              "      <td>30039119</td>\n",
              "    </tr>\n",
              "    <tr>\n",
              "      <th>1590</th>\n",
              "      <td>Ed Sheeran</td>\n",
              "      <td>Ed Sheeran - Perfect Symphony (with Andrea Boc...</td>\n",
              "      <td>6433327</td>\n",
              "    </tr>\n",
              "  </tbody>\n",
              "</table>\n",
              "</div>"
            ],
            "text/plain": [
              "                           channel_title  ...      views\n",
              "29                        FaeryInLoveInc  ...  989873537\n",
              "2379                  TheReportOfTheWeek  ...  598795075\n",
              "1476  The Late Show with Stephen Colbert  ...  100360000\n",
              "1882                         Foot Locker  ...   30039119\n",
              "1590                          Ed Sheeran  ...    6433327\n",
              "\n",
              "[5 rows x 3 columns]"
            ]
          },
          "metadata": {},
          "execution_count": 87
        }
      ]
    },
    {
      "cell_type": "markdown",
      "metadata": {
        "id": "KePcXABWQnJp"
      },
      "source": [
        "**Visualizing the most viewed Video on Youtube**"
      ]
    },
    {
      "cell_type": "code",
      "metadata": {
        "colab": {
          "base_uri": "https://localhost:8080/",
          "height": 318
        },
        "id": "WH8HRHQjQjci",
        "outputId": "0172f476-a04a-41d5-ac31-06151a23b048"
      },
      "source": [
        "sns.set_style(\"darkgrid\") #setting the style\n",
        "sns.set_context(\"notebook\")\n",
        "sns.barplot(x='views',y=\"title\",hue=\"channel_title\",data=most_viewed,palette=\"Accent\")  # using seaborn Library \n",
        "plt.xlabel(\"Total_Views\")\n",
        "plt.ylabel(\"Videos\")\n",
        "plt.title(\"Most viewed vidoes on youtube\")\n"
      ],
      "execution_count": 88,
      "outputs": [
        {
          "output_type": "execute_result",
          "data": {
            "text/plain": [
              "Text(0.5, 1.0, 'Most viewed vidoes on youtube')"
            ]
          },
          "metadata": {},
          "execution_count": 88
        },
        {
          "output_type": "display_data",
          "data": {
            "image/png": "[encoded data removed]",
            "text/plain": [
              "<Figure size 432x288 with 1 Axes>"
            ]
          },
          "metadata": {}
        }
      ]
    },
    {
      "cell_type": "markdown",
      "metadata": {
        "id": "cxg7oIo_Qr1W"
      },
      "source": [
        "**2.Most Liked Videos on Youtube**"
      ]
    },
    {
      "cell_type": "code",
      "metadata": {
        "colab": {
          "base_uri": "https://localhost:8080/",
          "height": 266
        },
        "id": "J0HarVRMQrQt",
        "outputId": "53fb70da-3477-4161-b13f-d193b99e5ee9"
      },
      "source": [
        "#Most Liked Videos on Youtube-Top 7\n",
        "most_liked=df_youtube.sort_values('likes',ascending=False)[:7]\n",
        "most_liked[['channel_title','title','subscriber','likes']]\n",
        "# \"I Picked My Girlfriend's Outfit Blindfolded\" video\thas the most likes "
      ],
      "execution_count": 89,
      "outputs": [
        {
          "output_type": "execute_result",
          "data": {
            "text/html": [
              "<div>\n",
              "<style scoped>\n",
              "    .dataframe tbody tr th:only-of-type {\n",
              "        vertical-align: middle;\n",
              "    }\n",
              "\n",
              "    .dataframe tbody tr th {\n",
              "        vertical-align: top;\n",
              "    }\n",
              "\n",
              "    .dataframe thead th {\n",
              "        text-align: right;\n",
              "    }\n",
              "</style>\n",
              "<table border=\"1\" class=\"dataframe\">\n",
              "  <thead>\n",
              "    <tr style=\"text-align: right;\">\n",
              "      <th></th>\n",
              "      <th>channel_title</th>\n",
              "      <th>title</th>\n",
              "      <th>subscriber</th>\n",
              "      <th>likes</th>\n",
              "    </tr>\n",
              "  </thead>\n",
              "  <tbody>\n",
              "    <tr>\n",
              "      <th>154</th>\n",
              "      <td>Tyler Williams</td>\n",
              "      <td>I Picked My Girlfriend's Outfit Blindfolded</td>\n",
              "      <td>547671.0</td>\n",
              "      <td>1213628</td>\n",
              "    </tr>\n",
              "    <tr>\n",
              "      <th>2349</th>\n",
              "      <td>Adam Whitley</td>\n",
              "      <td>Gas Mask Scene | Kong: Skull Island (2017)</td>\n",
              "      <td>72.0</td>\n",
              "      <td>23843</td>\n",
              "    </tr>\n",
              "    <tr>\n",
              "      <th>2921</th>\n",
              "      <td>Rita Ora</td>\n",
              "      <td>Rita Ora - Proud (Official Audio)</td>\n",
              "      <td>530742.0</td>\n",
              "      <td>23815</td>\n",
              "    </tr>\n",
              "    <tr>\n",
              "      <th>2512</th>\n",
              "      <td>FC Barcelona</td>\n",
              "      <td>MOVE OF THE WEEK #5 | Messi’s amazing goal in ...</td>\n",
              "      <td>3938715.0</td>\n",
              "      <td>23768</td>\n",
              "    </tr>\n",
              "    <tr>\n",
              "      <th>3114</th>\n",
              "      <td>TheReportOfTheWeek</td>\n",
              "      <td>Are Taco Bell's Nacho Fries Worth the Hype?</td>\n",
              "      <td>770330.0</td>\n",
              "      <td>23667</td>\n",
              "    </tr>\n",
              "    <tr>\n",
              "      <th>814</th>\n",
              "      <td>ElleOfTheMills</td>\n",
              "      <td>COMING OUT (ELLE MILLS STYLE)</td>\n",
              "      <td>1121792.0</td>\n",
              "      <td>23308</td>\n",
              "    </tr>\n",
              "    <tr>\n",
              "      <th>389</th>\n",
              "      <td>K Yuen</td>\n",
              "      <td>Transparent: YAS QUEEN</td>\n",
              "      <td>51.0</td>\n",
              "      <td>23288</td>\n",
              "    </tr>\n",
              "  </tbody>\n",
              "</table>\n",
              "</div>"
            ],
            "text/plain": [
              "           channel_title  ...    likes\n",
              "154       Tyler Williams  ...  1213628\n",
              "2349        Adam Whitley  ...    23843\n",
              "2921            Rita Ora  ...    23815\n",
              "2512        FC Barcelona  ...    23768\n",
              "3114  TheReportOfTheWeek  ...    23667\n",
              "814       ElleOfTheMills  ...    23308\n",
              "389               K Yuen  ...    23288\n",
              "\n",
              "[7 rows x 4 columns]"
            ]
          },
          "metadata": {},
          "execution_count": 89
        }
      ]
    },
    {
      "cell_type": "markdown",
      "metadata": {
        "id": "UHdZI7KXQqy6"
      },
      "source": [
        "**Visualizing Top 7 Liked videos on youtube**"
      ]
    },
    {
      "cell_type": "code",
      "metadata": {
        "colab": {
          "base_uri": "https://localhost:8080/",
          "height": 318
        },
        "id": "M8skH4QFQ2KT",
        "outputId": "dc3d2cfb-3330-4a09-c570-271d4b831269"
      },
      "source": [
        "sns.set_style(\"darkgrid\")\n",
        "sns.set_context(\"notebook\")\n",
        "sns.barplot(x='likes',y=\"title\",data=most_liked,palette=\"icefire\")\n",
        "plt.xlabel(\"Likes\")\n",
        "plt.ylabel(\"YT_Video\")\n",
        "plt.title(\"Most Liked vidoes on youtube\")\n"
      ],
      "execution_count": 90,
      "outputs": [
        {
          "output_type": "execute_result",
          "data": {
            "text/plain": [
              "Text(0.5, 1.0, 'Most Liked vidoes on youtube')"
            ]
          },
          "metadata": {},
          "execution_count": 90
        },
        {
          "output_type": "display_data",
          "data": {
            "image/png": "[encoded data removed]",
            "text/plain": [
              "<Figure size 432x288 with 1 Axes>"
            ]
          },
          "metadata": {}
        }
      ]
    },
    {
      "cell_type": "markdown",
      "metadata": {
        "id": "VZ8i9AXkQ7EK"
      },
      "source": [
        "**3.Most Disliked videos on youtube**"
      ]
    },
    {
      "cell_type": "code",
      "metadata": {
        "colab": {
          "base_uri": "https://localhost:8080/",
          "height": 266
        },
        "id": "2gHTTnlHQ4Dc",
        "outputId": "924ac6c4-f5f7-438b-a218-4fd667f15242"
      },
      "source": [
        "# Top 7 disliked  youtube videos \n",
        "most_disliked=df_youtube.sort_values('dislike',ascending=False)[:7]\n",
        "most_disliked[['channel_title','title','subscriber','dislike']]"
      ],
      "execution_count": 91,
      "outputs": [
        {
          "output_type": "execute_result",
          "data": {
            "text/html": [
              "<div>\n",
              "<style scoped>\n",
              "    .dataframe tbody tr th:only-of-type {\n",
              "        vertical-align: middle;\n",
              "    }\n",
              "\n",
              "    .dataframe tbody tr th {\n",
              "        vertical-align: top;\n",
              "    }\n",
              "\n",
              "    .dataframe thead th {\n",
              "        text-align: right;\n",
              "    }\n",
              "</style>\n",
              "<table border=\"1\" class=\"dataframe\">\n",
              "  <thead>\n",
              "    <tr style=\"text-align: right;\">\n",
              "      <th></th>\n",
              "      <th>channel_title</th>\n",
              "      <th>title</th>\n",
              "      <th>subscriber</th>\n",
              "      <th>dislike</th>\n",
              "    </tr>\n",
              "  </thead>\n",
              "  <tbody>\n",
              "    <tr>\n",
              "      <th>1091</th>\n",
              "      <td>ESPN</td>\n",
              "      <td>Urban Meyer reacts to Ohio State not making th...</td>\n",
              "      <td>2702088.0</td>\n",
              "      <td>14858</td>\n",
              "    </tr>\n",
              "    <tr>\n",
              "      <th>987</th>\n",
              "      <td>NBA</td>\n",
              "      <td>NBA Meme Team - Top 5</td>\n",
              "      <td>8707071.0</td>\n",
              "      <td>14852</td>\n",
              "    </tr>\n",
              "    <tr>\n",
              "      <th>2080</th>\n",
              "      <td>SMTOWN</td>\n",
              "      <td>[STATION] SMTOWN 'Dear My Family (Live Concert...</td>\n",
              "      <td>13551673.0</td>\n",
              "      <td>14849</td>\n",
              "    </tr>\n",
              "    <tr>\n",
              "      <th>634</th>\n",
              "      <td>DreamCastle_629</td>\n",
              "      <td>How to turn your car crash into a catchy song</td>\n",
              "      <td>50.0</td>\n",
              "      <td>14833</td>\n",
              "    </tr>\n",
              "    <tr>\n",
              "      <th>2880</th>\n",
              "      <td>Car Throttle</td>\n",
              "      <td>The Most Expensive Countries To Buy Cool Used ...</td>\n",
              "      <td>1956651.0</td>\n",
              "      <td>14803</td>\n",
              "    </tr>\n",
              "    <tr>\n",
              "      <th>1268</th>\n",
              "      <td>TheEllenShow</td>\n",
              "      <td>Gwen Stefani Talks Moving in with Blake Shelton</td>\n",
              "      <td>23760020.0</td>\n",
              "      <td>14780</td>\n",
              "    </tr>\n",
              "    <tr>\n",
              "      <th>3124</th>\n",
              "      <td>ESPN</td>\n",
              "      <td>WWE's Vince McMahon announces he will relaunch...</td>\n",
              "      <td>2702088.0</td>\n",
              "      <td>14773</td>\n",
              "    </tr>\n",
              "  </tbody>\n",
              "</table>\n",
              "</div>"
            ],
            "text/plain": [
              "        channel_title  ... dislike\n",
              "1091             ESPN  ...   14858\n",
              "987               NBA  ...   14852\n",
              "2080           SMTOWN  ...   14849\n",
              "634   DreamCastle_629  ...   14833\n",
              "2880     Car Throttle  ...   14803\n",
              "1268     TheEllenShow  ...   14780\n",
              "3124             ESPN  ...   14773\n",
              "\n",
              "[7 rows x 4 columns]"
            ]
          },
          "metadata": {},
          "execution_count": 91
        }
      ]
    },
    {
      "cell_type": "markdown",
      "metadata": {
        "id": "WnX7Zvt2RAsN"
      },
      "source": [
        "**Visualizing Top Disliked videos on youtube**"
      ]
    },
    {
      "cell_type": "code",
      "metadata": {
        "colab": {
          "base_uri": "https://localhost:8080/",
          "height": 318
        },
        "id": "gkJFt2IQQ9hh",
        "outputId": "0bdab537-805b-49cd-e55d-f9e83b158f44"
      },
      "source": [
        "sns.set_style(\"dark\")\n",
        "sns.set_context(\"notebook\")\n",
        "plt.xlabel(\"Dislike_count\")\n",
        "plt.ylabel(\"YT_Videos\")\n",
        "plt.title(\"Most Disliked vidoes on youtube\")\n",
        "sns.barplot(x='dislike',y=\"title\",data=most_disliked)\n",
        "# Since Barplot does not give us a better insight "
      ],
      "execution_count": 92,
      "outputs": [
        {
          "output_type": "execute_result",
          "data": {
            "text/plain": [
              "<matplotlib.axes._subplots.AxesSubplot at 0x7fe280222810>"
            ]
          },
          "metadata": {},
          "execution_count": 92
        },
        {
          "output_type": "display_data",
          "data": {
            "image/png": "[encoded data removed]",
            "text/plain": [
              "<Figure size 432x288 with 1 Axes>"
            ]
          },
          "metadata": {}
        }
      ]
    },
    {
      "cell_type": "code",
      "metadata": {
        "colab": {
          "base_uri": "https://localhost:8080/",
          "height": 318
        },
        "id": "zKVAAKf0REg1",
        "outputId": "78c297f0-3aa7-416d-f6ef-c2e90fe051d5"
      },
      "source": [
        "#Scatterplot has been used\n",
        "sns.set_style(\"darkgrid\")\n",
        "sns.set_context(\"notebook\")\n",
        "plt.xlabel(\"Dislike_count\")\n",
        "plt.ylabel(\"YT_Videos\")\n",
        "plt.title(\"Most Disliked vidoes on youtube\")\n",
        "\n",
        "sns.scatterplot(x='dislike',y=\"title\",hue=\"channel_title\",data=most_disliked)"
      ],
      "execution_count": 93,
      "outputs": [
        {
          "output_type": "execute_result",
          "data": {
            "text/plain": [
              "<matplotlib.axes._subplots.AxesSubplot at 0x7fe2827b3a50>"
            ]
          },
          "metadata": {},
          "execution_count": 93
        },
        {
          "output_type": "display_data",
          "data": {
            "image/png": "[encoded data removed]",
            "text/plain": [
              "<Figure size 432x288 with 1 Axes>"
            ]
          },
          "metadata": {}
        }
      ]
    }
  ]
}